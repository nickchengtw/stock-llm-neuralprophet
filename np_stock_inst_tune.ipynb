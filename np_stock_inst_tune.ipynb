{
 "cells": [
  {
   "cell_type": "code",
   "execution_count": 2,
   "metadata": {},
   "outputs": [
    {
     "name": "stdout",
     "output_type": "stream",
     "text": [
      "<class 'pandas.core.frame.DataFrame'>\n",
      "Int64Index: 566 entries, 4 to 569\n",
      "Data columns (total 17 columns):\n",
      " #   Column                    Non-Null Count  Dtype         \n",
      "---  ------                    --------------  -----         \n",
      " 0   Unnamed: 0                566 non-null    int64         \n",
      " 1   ds                        566 non-null    datetime64[ns]\n",
      " 2   open_price                566 non-null    float64       \n",
      " 3   high_price                566 non-null    float64       \n",
      " 4   low_price                 566 non-null    float64       \n",
      " 5   y                         566 non-null    float64       \n",
      " 6   volume                    566 non-null    int64         \n",
      " 7   foreign                   566 non-null    int64         \n",
      " 8   investment                566 non-null    int64         \n",
      " 9   dealer                    566 non-null    int64         \n",
      " 10  ratio_over_400_shares     566 non-null    float64       \n",
      " 11  shareholders_400_to_600   566 non-null    int64         \n",
      " 12  shareholders_600_to_800   566 non-null    int64         \n",
      " 13  shareholders_800_to_1000  566 non-null    int64         \n",
      " 14  ratio_over_1000_shares    566 non-null    float64       \n",
      " 15  high_low_diff             566 non-null    float64       \n",
      " 16  MA                        566 non-null    float64       \n",
      "dtypes: datetime64[ns](1), float64(8), int64(8)\n",
      "memory usage: 79.6 KB\n"
     ]
    }
   ],
   "source": [
    "import pandas as pd\n",
    "from sklearn.model_selection import ParameterGrid\n",
    "from neuralprophet import NeuralProphet, set_log_level, set_random_seed\n",
    "from src.model.features import add_stock_price_feature\n",
    "\n",
    "# Disable logging messages unless there is an error\n",
    "set_log_level(\"ERROR\")\n",
    "\n",
    "df = pd.read_csv('data/stocks/2330_stock_data_0317.csv', parse_dates=['ds'])\n",
    "df = add_stock_price_feature(df)\n",
    "# plt = df.plot(x=\"ds\", y=\"y\", figsize=(15, 5))\n",
    "df.info()"
   ]
  },
  {
   "cell_type": "code",
   "execution_count": 3,
   "metadata": {},
   "outputs": [
    {
     "name": "stdout",
     "output_type": "stream",
     "text": [
      "[{'dealer': 0, 'foreign': 0, 'investment': 0}]\n",
      "Training: |          | 0/? [00:00<?, ?it/s]"
     ]
    },
    {
     "name": "stderr",
     "output_type": "stream",
     "text": [
      "WARNING - (py.warnings._showwarnmsg) - c:\\Users\\nick\\AppData\\Local\\Programs\\Python\\Python311\\Lib\\site-packages\\pytorch_lightning\\utilities\\data.py:79: Trying to infer the `batch_size` from an ambiguous collection. The batch size we found is 32. To avoid any miscalculations, use `self.log(..., batch_size=batch_size)`.\n",
      "\n",
      "WARNING - (py.warnings._showwarnmsg) - c:\\Users\\nick\\AppData\\Local\\Programs\\Python\\Python311\\Lib\\site-packages\\pytorch_lightning\\utilities\\data.py:79: Trying to infer the `batch_size` from an ambiguous collection. The batch size we found is 11. To avoid any miscalculations, use `self.log(..., batch_size=batch_size)`.\n",
      "\n",
      "Finding best initial lr: 100%|██████████| 219/219 [00:00<00:00, 266.02it/s]\n"
     ]
    },
    {
     "name": "stdout",
     "output_type": "stream",
     "text": [
      "Training: |          | 0/? [00:09<?, ?it/s, v_num=1440, MAE_val=14.80, RMSE_val=18.10, Loss_val=0.00162, RegLoss_val=0.000, train_loss=0.000691, reg_loss=0.000, MAE=8.240, RMSE=11.90, Loss=0.000666, RegLoss=0.000]\n",
      "Predicting DataLoader 0: 100%|██████████| 1/1 [00:00<00:00, 223.14it/s]\n",
      "[{'dealer': 0, 'foreign': 0, 'investment': 5}]\n",
      "Training: |          | 0/? [00:00<?, ?it/s]"
     ]
    },
    {
     "name": "stderr",
     "output_type": "stream",
     "text": [
      "WARNING - (py.warnings._showwarnmsg) - c:\\Users\\nick\\AppData\\Local\\Programs\\Python\\Python311\\Lib\\site-packages\\pytorch_lightning\\utilities\\data.py:79: Trying to infer the `batch_size` from an ambiguous collection. The batch size we found is 9. To avoid any miscalculations, use `self.log(..., batch_size=batch_size)`.\n",
      "\n",
      "Finding best initial lr: 100%|██████████| 219/219 [00:00<00:00, 272.53it/s]\n"
     ]
    },
    {
     "name": "stdout",
     "output_type": "stream",
     "text": [
      "Training: |          | 0/? [00:09<?, ?it/s, v_num=1441, MAE_val=14.50, RMSE_val=17.70, Loss_val=0.00157, RegLoss_val=0.000, train_loss=0.00068, reg_loss=0.000, MAE=8.430, RMSE=11.90, Loss=0.000678, RegLoss=0.000] \n",
      "Predicting DataLoader 0: 100%|██████████| 1/1 [00:00<00:00, 193.15it/s]\n",
      "[{'dealer': 0, 'foreign': 0, 'investment': 10}]\n",
      "Training: |          | 0/? [00:00<?, ?it/s]"
     ]
    },
    {
     "name": "stderr",
     "output_type": "stream",
     "text": [
      "WARNING - (py.warnings._showwarnmsg) - c:\\Users\\nick\\AppData\\Local\\Programs\\Python\\Python311\\Lib\\site-packages\\pytorch_lightning\\utilities\\data.py:79: Trying to infer the `batch_size` from an ambiguous collection. The batch size we found is 4. To avoid any miscalculations, use `self.log(..., batch_size=batch_size)`.\n",
      "\n",
      "Finding best initial lr: 100%|██████████| 219/219 [00:00<00:00, 277.26it/s]\n"
     ]
    },
    {
     "name": "stdout",
     "output_type": "stream",
     "text": [
      "Training: |          | 0/? [00:09<?, ?it/s, v_num=1442, MAE_val=15.30, RMSE_val=18.20, Loss_val=0.00165, RegLoss_val=0.000, train_loss=0.000701, reg_loss=0.000, MAE=8.220, RMSE=11.70, Loss=0.000667, RegLoss=0.000]\n",
      "Epoch 140: 100%|██████████| 140/140 [00:21<00:00,  6.42it/s]    \n",
      "Epoch 140: 100%|██████████| 140/140 [00:10<00:00, 12.79it/s]    \n",
      "Predicting DataLoader 0: 100%|██████████| 1/1 [00:00<00:00, 244.75it/s]\n",
      "[{'dealer': 0, 'foreign': 5, 'investment': 0}]\n",
      "Training: |          | 0/? [00:00<?, ?it/s]"
     ]
    },
    {
     "name": "stderr",
     "output_type": "stream",
     "text": [
      "Finding best initial lr: 100%|██████████| 219/219 [00:00<00:00, 275.72it/s]\n"
     ]
    },
    {
     "name": "stdout",
     "output_type": "stream",
     "text": [
      "Training: |          | 0/? [00:09<?, ?it/s, v_num=1443, MAE_val=15.00, RMSE_val=18.50, Loss_val=0.0017, RegLoss_val=0.000, train_loss=0.000663, reg_loss=0.000, MAE=8.290, RMSE=11.90, Loss=0.000663, RegLoss=0.000] \n",
      "Predicting DataLoader 0: 100%|██████████| 1/1 [00:00<00:00, 322.59it/s]\n",
      "[{'dealer': 0, 'foreign': 5, 'investment': 5}]\n",
      "Training: |          | 0/? [00:00<?, ?it/s]"
     ]
    },
    {
     "name": "stderr",
     "output_type": "stream",
     "text": [
      "Finding best initial lr: 100%|██████████| 219/219 [00:00<00:00, 282.73it/s]\n"
     ]
    },
    {
     "name": "stdout",
     "output_type": "stream",
     "text": [
      "Training: |          | 0/? [00:09<?, ?it/s, v_num=1444, MAE_val=14.90, RMSE_val=18.20, Loss_val=0.00166, RegLoss_val=0.000, train_loss=0.000667, reg_loss=0.000, MAE=8.260, RMSE=11.70, Loss=0.00065, RegLoss=0.000] \n",
      "Predicting DataLoader 0: 100%|██████████| 1/1 [00:00<00:00, 296.58it/s]\n",
      "[{'dealer': 0, 'foreign': 5, 'investment': 10}]\n",
      "Training: |          | 0/? [00:00<?, ?it/s]"
     ]
    },
    {
     "name": "stderr",
     "output_type": "stream",
     "text": [
      "Finding best initial lr: 100%|██████████| 219/219 [00:00<00:00, 278.14it/s]\n"
     ]
    },
    {
     "name": "stdout",
     "output_type": "stream",
     "text": [
      "Training: |          | 0/? [00:09<?, ?it/s, v_num=1445, MAE_val=15.70, RMSE_val=18.90, Loss_val=0.00179, RegLoss_val=0.000, train_loss=0.000662, reg_loss=0.000, MAE=8.110, RMSE=11.50, Loss=0.000634, RegLoss=0.000]\n",
      "Predicting DataLoader 0: 100%|██████████| 1/1 [00:00<00:00, 244.35it/s]\n",
      "[{'dealer': 0, 'foreign': 10, 'investment': 0}]\n",
      "Training: |          | 0/? [00:00<?, ?it/s]"
     ]
    },
    {
     "name": "stderr",
     "output_type": "stream",
     "text": [
      "Finding best initial lr: 100%|██████████| 219/219 [00:00<00:00, 280.80it/s]\n"
     ]
    },
    {
     "name": "stdout",
     "output_type": "stream",
     "text": [
      "Training: |          | 0/? [00:09<?, ?it/s, v_num=1446, MAE_val=15.40, RMSE_val=18.80, Loss_val=0.00175, RegLoss_val=0.000, train_loss=0.000666, reg_loss=0.000, MAE=7.950, RMSE=11.30, Loss=0.000632, RegLoss=0.000]\n",
      "Predicting DataLoader 0: 100%|██████████| 1/1 [00:00<00:00, 225.96it/s]\n",
      "[{'dealer': 0, 'foreign': 10, 'investment': 5}]\n",
      "Training: |          | 0/? [00:00<?, ?it/s]"
     ]
    },
    {
     "name": "stderr",
     "output_type": "stream",
     "text": [
      "Finding best initial lr: 100%|██████████| 219/219 [00:00<00:00, 276.02it/s]\n"
     ]
    },
    {
     "name": "stdout",
     "output_type": "stream",
     "text": [
      "Training: |          | 0/? [00:09<?, ?it/s, v_num=1447, MAE_val=15.50, RMSE_val=18.90, Loss_val=0.00178, RegLoss_val=0.000, train_loss=0.000656, reg_loss=0.000, MAE=8.100, RMSE=11.50, Loss=0.00063, RegLoss=0.000] \n",
      "Predicting DataLoader 0: 100%|██████████| 1/1 [00:00<00:00, 242.71it/s]\n",
      "[{'dealer': 0, 'foreign': 10, 'investment': 10}]\n",
      "Training: |          | 0/? [00:00<?, ?it/s]"
     ]
    },
    {
     "name": "stderr",
     "output_type": "stream",
     "text": [
      "Finding best initial lr: 100%|██████████| 219/219 [00:00<00:00, 274.83it/s]\n"
     ]
    },
    {
     "name": "stdout",
     "output_type": "stream",
     "text": [
      "Training: |          | 0/? [00:09<?, ?it/s, v_num=1448, MAE_val=15.50, RMSE_val=18.60, Loss_val=0.00173, RegLoss_val=0.000, train_loss=0.000656, reg_loss=0.000, MAE=8.390, RMSE=12.00, Loss=0.000652, RegLoss=0.000]\n",
      "Predicting DataLoader 0: 100%|██████████| 1/1 [00:00<00:00, 249.96it/s]\n",
      "[{'dealer': 5, 'foreign': 0, 'investment': 0}]\n",
      "Training: |          | 0/? [00:00<?, ?it/s]"
     ]
    },
    {
     "name": "stderr",
     "output_type": "stream",
     "text": [
      "Finding best initial lr: 100%|██████████| 219/219 [00:00<00:00, 273.20it/s]\n"
     ]
    },
    {
     "name": "stdout",
     "output_type": "stream",
     "text": [
      "Training: |          | 0/? [00:09<?, ?it/s, v_num=1449, MAE_val=15.80, RMSE_val=19.20, Loss_val=0.00185, RegLoss_val=0.000, train_loss=0.000667, reg_loss=0.000, MAE=8.330, RMSE=11.80, Loss=0.000663, RegLoss=0.000]\n",
      "Predicting DataLoader 0: 100%|██████████| 1/1 [00:00<00:00, 249.90it/s]\n",
      "[{'dealer': 5, 'foreign': 0, 'investment': 5}]\n",
      "Training: |          | 0/? [00:00<?, ?it/s]"
     ]
    },
    {
     "name": "stderr",
     "output_type": "stream",
     "text": [
      "Finding best initial lr: 100%|██████████| 219/219 [00:00<00:00, 279.08it/s]\n"
     ]
    },
    {
     "name": "stdout",
     "output_type": "stream",
     "text": [
      "Training: |          | 0/? [00:09<?, ?it/s, v_num=1450, MAE_val=16.20, RMSE_val=19.60, Loss_val=0.00191, RegLoss_val=0.000, train_loss=0.000679, reg_loss=0.000, MAE=8.390, RMSE=11.90, Loss=0.000665, RegLoss=0.000]\n",
      "Predicting DataLoader 0: 100%|██████████| 1/1 [00:00<00:00, 266.31it/s]\n",
      "[{'dealer': 5, 'foreign': 0, 'investment': 10}]\n",
      "Epoch 140: 100%|██████████| 140/140 [01:25<00:00,  1.63it/s]    \n",
      "Epoch 140: 100%|██████████| 140/140 [01:14<00:00,  1.87it/s]   \n",
      "Epoch 140: 100%|██████████| 140/140 [01:04<00:00,  2.18it/s]    \n",
      "Epoch 140: 100%|██████████| 140/140 [00:53<00:00,  2.61it/s]    \n",
      "Epoch 140: 100%|██████████| 140/140 [00:43<00:00,  3.25it/s]    \n",
      "Epoch 140: 100%|██████████| 140/140 [00:32<00:00,  4.32it/s]\n",
      "Epoch 140: 100%|██████████| 140/140 [00:21<00:00,  6.45it/s]   \n",
      "Epoch 140: 100%|██████████| 140/140 [00:11<00:00, 12.72it/s]   \n",
      "Epoch 140: 100%|██████████| 140/140 [00:00<00:00, 369.82it/s]   \n"
     ]
    },
    {
     "name": "stderr",
     "output_type": "stream",
     "text": [
      "Finding best initial lr: 100%|██████████| 219/219 [00:00<00:00, 274.72it/s]\n"
     ]
    },
    {
     "name": "stdout",
     "output_type": "stream",
     "text": [
      "Training: |          | 0/? [00:09<?, ?it/s, v_num=1451, MAE_val=17.00, RMSE_val=20.40, Loss_val=0.00207, RegLoss_val=0.000, train_loss=0.000661, reg_loss=0.000, MAE=8.090, RMSE=11.60, Loss=0.000639, RegLoss=0.000]\n",
      "Predicting DataLoader 0: 100%|██████████| 1/1 [00:00<00:00, 200.01it/s]\n",
      "[{'dealer': 5, 'foreign': 5, 'investment': 0}]\n",
      "Training: |          | 0/? [00:00<?, ?it/s]"
     ]
    },
    {
     "name": "stderr",
     "output_type": "stream",
     "text": [
      "Finding best initial lr: 100%|██████████| 219/219 [00:00<00:00, 280.14it/s]\n"
     ]
    },
    {
     "name": "stdout",
     "output_type": "stream",
     "text": [
      "Training: |          | 0/? [00:09<?, ?it/s, v_num=1452, MAE_val=15.80, RMSE_val=19.30, Loss_val=0.00186, RegLoss_val=0.000, train_loss=0.000658, reg_loss=0.000, MAE=8.120, RMSE=11.60, Loss=0.000644, RegLoss=0.000]\n",
      "Predicting DataLoader 0: 100%|██████████| 1/1 [00:00<00:00, 257.05it/s]\n",
      "[{'dealer': 5, 'foreign': 5, 'investment': 5}]\n",
      "Training: |          | 0/? [00:00<?, ?it/s]"
     ]
    },
    {
     "name": "stderr",
     "output_type": "stream",
     "text": [
      "Finding best initial lr: 100%|██████████| 219/219 [00:00<00:00, 274.46it/s]\n"
     ]
    },
    {
     "name": "stdout",
     "output_type": "stream",
     "text": [
      "Training: |          | 0/? [00:09<?, ?it/s, v_num=1453, MAE_val=15.80, RMSE_val=19.30, Loss_val=0.00186, RegLoss_val=0.000, train_loss=0.00065, reg_loss=0.000, MAE=8.230, RMSE=12.10, Loss=0.000654, RegLoss=0.000] \n",
      "Predicting DataLoader 0: 100%|██████████| 1/1 [00:00<00:00, 285.33it/s]\n",
      "[{'dealer': 5, 'foreign': 5, 'investment': 10}]\n",
      "Training: |          | 0/? [00:00<?, ?it/s]"
     ]
    },
    {
     "name": "stderr",
     "output_type": "stream",
     "text": [
      "Finding best initial lr: 100%|██████████| 219/219 [00:00<00:00, 272.28it/s]\n"
     ]
    },
    {
     "name": "stdout",
     "output_type": "stream",
     "text": [
      "Training: |          | 0/? [00:10<?, ?it/s, v_num=1454, MAE_val=16.90, RMSE_val=20.40, Loss_val=0.00207, RegLoss_val=0.000, train_loss=0.000649, reg_loss=0.000, MAE=8.110, RMSE=11.80, Loss=0.000636, RegLoss=0.000]\n",
      "Predicting DataLoader 0: 100%|██████████| 1/1 [00:00<00:00, 221.86it/s]\n",
      "[{'dealer': 5, 'foreign': 10, 'investment': 0}]\n",
      "Training: |          | 0/? [00:00<?, ?it/s]"
     ]
    },
    {
     "name": "stderr",
     "output_type": "stream",
     "text": [
      "Finding best initial lr: 100%|██████████| 219/219 [00:00<00:00, 269.08it/s]\n"
     ]
    },
    {
     "name": "stdout",
     "output_type": "stream",
     "text": [
      "Training: |          | 0/? [00:10<?, ?it/s, v_num=1455, MAE_val=16.70, RMSE_val=20.30, Loss_val=0.00206, RegLoss_val=0.000, train_loss=0.000644, reg_loss=0.000, MAE=7.990, RMSE=11.40, Loss=0.00062, RegLoss=0.000] \n",
      "Predicting DataLoader 0: 100%|██████████| 1/1 [00:00<00:00, 221.86it/s]\n",
      "[{'dealer': 5, 'foreign': 10, 'investment': 5}]\n",
      "Training: |          | 0/? [00:00<?, ?it/s]"
     ]
    },
    {
     "name": "stderr",
     "output_type": "stream",
     "text": [
      "Finding best initial lr: 100%|██████████| 219/219 [00:00<00:00, 273.45it/s]\n"
     ]
    },
    {
     "name": "stdout",
     "output_type": "stream",
     "text": [
      "Training: |          | 0/? [00:10<?, ?it/s, v_num=1456, MAE_val=16.30, RMSE_val=19.70, Loss_val=0.00194, RegLoss_val=0.000, train_loss=0.000644, reg_loss=0.000, MAE=8.150, RMSE=11.80, Loss=0.000631, RegLoss=0.000]\n",
      "Predicting DataLoader 0: 100%|██████████| 1/1 [00:00<00:00, 315.43it/s]\n",
      "[{'dealer': 5, 'foreign': 10, 'investment': 10}]\n",
      "Training: |          | 0/? [00:00<?, ?it/s]"
     ]
    },
    {
     "name": "stderr",
     "output_type": "stream",
     "text": [
      "Finding best initial lr: 100%|██████████| 219/219 [00:00<00:00, 259.28it/s]\n"
     ]
    },
    {
     "name": "stdout",
     "output_type": "stream",
     "text": [
      "Training: |          | 0/? [00:10<?, ?it/s, v_num=1457, MAE_val=17.30, RMSE_val=21.00, Loss_val=0.00219, RegLoss_val=0.000, train_loss=0.000646, reg_loss=0.000, MAE=8.560, RMSE=12.10, Loss=0.000701, RegLoss=0.000]\n",
      "Predicting DataLoader 0: 100%|██████████| 1/1 [00:00<00:00, 250.12it/s]\n",
      "[{'dealer': 10, 'foreign': 0, 'investment': 0}]\n",
      "Training: |          | 0/? [00:00<?, ?it/s]"
     ]
    },
    {
     "name": "stderr",
     "output_type": "stream",
     "text": [
      "Finding best initial lr: 100%|██████████| 219/219 [00:00<00:00, 276.92it/s]\n"
     ]
    },
    {
     "name": "stdout",
     "output_type": "stream",
     "text": [
      "Training: |          | 0/? [00:10<?, ?it/s, v_num=1458, MAE_val=16.50, RMSE_val=19.90, Loss_val=0.00198, RegLoss_val=0.000, train_loss=0.000676, reg_loss=0.000, MAE=8.030, RMSE=11.40, Loss=0.000642, RegLoss=0.000]\n",
      "Predicting DataLoader 0: 100%|██████████| 1/1 [00:00<00:00, 250.02it/s]\n",
      "[{'dealer': 10, 'foreign': 0, 'investment': 5}]\n",
      "Training: |          | 0/? [00:00<?, ?it/s]"
     ]
    },
    {
     "name": "stderr",
     "output_type": "stream",
     "text": [
      "Finding best initial lr: 100%|██████████| 219/219 [00:00<00:00, 270.06it/s]\n"
     ]
    },
    {
     "name": "stdout",
     "output_type": "stream",
     "text": [
      "Training: |          | 0/? [00:10<?, ?it/s, v_num=1459, MAE_val=17.30, RMSE_val=20.90, Loss_val=0.00217, RegLoss_val=0.000, train_loss=0.00066, reg_loss=0.000, MAE=8.020, RMSE=11.50, Loss=0.000637, RegLoss=0.000] \n",
      "Predicting DataLoader 0: 100%|██████████| 1/1 [00:00<00:00, 285.40it/s]\n",
      "[{'dealer': 10, 'foreign': 0, 'investment': 10}]\n",
      "Epoch 140: 100%|██████████| 140/140 [01:30<00:00,  1.54it/s]\n",
      "Epoch 140: 100%|██████████| 140/140 [01:19<00:00,  1.75it/s]\n",
      "Epoch 140: 100%|██████████| 140/140 [01:08<00:00,  2.03it/s]    \n",
      "Epoch 140: 100%|██████████| 140/140 [00:57<00:00,  2.44it/s]    \n",
      "Epoch 140: 100%|██████████| 140/140 [00:45<00:00,  3.06it/s]   \n",
      "Epoch 140: 100%|██████████| 140/140 [00:34<00:00,  4.07it/s]    \n",
      "Epoch 140: 100%|██████████| 140/140 [00:22<00:00,  6.15it/s]\n",
      "Epoch 140: 100%|██████████| 140/140 [00:11<00:00, 12.05it/s]    \n",
      "Epoch 140: 100%|██████████| 140/140 [00:00<00:00, 438.84it/s]   \n",
      "Training: |          | 0/? [00:00<?, ?it/s]"
     ]
    },
    {
     "name": "stderr",
     "output_type": "stream",
     "text": [
      "Finding best initial lr: 100%|██████████| 219/219 [00:00<00:00, 270.82it/s]\n"
     ]
    },
    {
     "name": "stdout",
     "output_type": "stream",
     "text": [
      "Training: |          | 0/? [00:10<?, ?it/s, v_num=1460, MAE_val=17.50, RMSE_val=21.40, Loss_val=0.00228, RegLoss_val=0.000, train_loss=0.000668, reg_loss=0.000, MAE=8.280, RMSE=12.00, Loss=0.00066, RegLoss=0.000] \n",
      "Predicting DataLoader 0: 100%|██████████| 1/1 [00:00<00:00, 199.94it/s]\n",
      "[{'dealer': 10, 'foreign': 5, 'investment': 0}]\n",
      "Training: |          | 0/? [00:00<?, ?it/s]"
     ]
    },
    {
     "name": "stderr",
     "output_type": "stream",
     "text": [
      "Finding best initial lr: 100%|██████████| 219/219 [00:00<00:00, 254.20it/s]\n"
     ]
    },
    {
     "name": "stdout",
     "output_type": "stream",
     "text": [
      "Training: |          | 0/? [00:10<?, ?it/s, v_num=1461, MAE_val=16.50, RMSE_val=20.10, Loss_val=0.00201, RegLoss_val=0.000, train_loss=0.000645, reg_loss=0.000, MAE=7.930, RMSE=11.40, Loss=0.000621, RegLoss=0.000]\n",
      "Predicting DataLoader 0: 100%|██████████| 1/1 [00:00<00:00, 269.59it/s]\n",
      "[{'dealer': 10, 'foreign': 5, 'investment': 5}]\n",
      "Training: |          | 0/? [00:00<?, ?it/s]"
     ]
    },
    {
     "name": "stderr",
     "output_type": "stream",
     "text": [
      "Finding best initial lr: 100%|██████████| 219/219 [00:00<00:00, 272.17it/s]\n"
     ]
    },
    {
     "name": "stdout",
     "output_type": "stream",
     "text": [
      "Training: |          | 0/? [00:10<?, ?it/s, v_num=1462, MAE_val=16.40, RMSE_val=20.10, Loss_val=0.00202, RegLoss_val=0.000, train_loss=0.000646, reg_loss=0.000, MAE=8.120, RMSE=11.80, Loss=0.000637, RegLoss=0.000]\n",
      "Predicting DataLoader 0: 100%|██████████| 1/1 [00:00<00:00, 202.54it/s]\n",
      "[{'dealer': 10, 'foreign': 5, 'investment': 10}]\n",
      "Training: |          | 0/? [00:00<?, ?it/s]"
     ]
    },
    {
     "name": "stderr",
     "output_type": "stream",
     "text": [
      "Finding best initial lr: 100%|██████████| 219/219 [00:00<00:00, 270.64it/s]\n"
     ]
    },
    {
     "name": "stdout",
     "output_type": "stream",
     "text": [
      "Training: |          | 0/? [00:09<?, ?it/s, v_num=1463, MAE_val=16.00, RMSE_val=19.40, Loss_val=0.00187, RegLoss_val=0.000, train_loss=0.000655, reg_loss=0.000, MAE=8.520, RMSE=12.10, Loss=0.000706, RegLoss=0.000]\n",
      "Predicting DataLoader 0: 100%|██████████| 1/1 [00:00<00:00, 257.90it/s]\n",
      "[{'dealer': 10, 'foreign': 10, 'investment': 0}]\n",
      "Training: |          | 0/? [00:00<?, ?it/s]"
     ]
    },
    {
     "name": "stderr",
     "output_type": "stream",
     "text": [
      "Finding best initial lr: 100%|██████████| 219/219 [00:00<00:00, 270.49it/s]\n"
     ]
    },
    {
     "name": "stdout",
     "output_type": "stream",
     "text": [
      "Training: |          | 0/? [00:09<?, ?it/s, v_num=1464, MAE_val=16.20, RMSE_val=19.80, Loss_val=0.00196, RegLoss_val=0.000, train_loss=0.00064, reg_loss=0.000, MAE=8.130, RMSE=11.80, Loss=0.000629, RegLoss=0.000] \n",
      "Predicting DataLoader 0: 100%|██████████| 1/1 [00:00<00:00, 191.31it/s]\n",
      "[{'dealer': 10, 'foreign': 10, 'investment': 5}]\n",
      "Training: |          | 0/? [00:00<?, ?it/s]"
     ]
    },
    {
     "name": "stderr",
     "output_type": "stream",
     "text": [
      "Finding best initial lr: 100%|██████████| 219/219 [00:00<00:00, 271.90it/s]\n"
     ]
    },
    {
     "name": "stdout",
     "output_type": "stream",
     "text": [
      "Training: |          | 0/? [00:10<?, ?it/s, v_num=1465, MAE_val=16.20, RMSE_val=19.70, Loss_val=0.00194, RegLoss_val=0.000, train_loss=0.000645, reg_loss=0.000, MAE=8.550, RMSE=12.10, Loss=0.000696, RegLoss=0.000]\n",
      "Predicting DataLoader 0: 100%|██████████| 1/1 [00:00<00:00, 250.03it/s]\n",
      "[{'dealer': 10, 'foreign': 10, 'investment': 10}]\n",
      "Training: |          | 0/? [00:00<?, ?it/s]"
     ]
    },
    {
     "name": "stderr",
     "output_type": "stream",
     "text": [
      "Finding best initial lr: 100%|██████████| 219/219 [00:00<00:00, 267.52it/s]\n"
     ]
    },
    {
     "name": "stdout",
     "output_type": "stream",
     "text": [
      "Training: |          | 0/? [00:10<?, ?it/s, v_num=1466, MAE_val=16.30, RMSE_val=19.80, Loss_val=0.00195, RegLoss_val=0.000, train_loss=0.000644, reg_loss=0.000, MAE=8.230, RMSE=11.60, Loss=0.000624, RegLoss=0.000]\n",
      "Predicting DataLoader 0: 100%|██████████| 1/1 [00:00<00:00, 249.94it/s]\n"
     ]
    }
   ],
   "source": [
    "from src.model.utils import val_mape\n",
    "\n",
    "param_grid = {\n",
    "    'foreign': [0, 5, 10],\n",
    "    'investment': [0, 5, 10],\n",
    "    'dealer': [0, 5, 10]\n",
    "}\n",
    "\n",
    "results = []\n",
    "# Iterate over each combination of hyperparameters\n",
    "for params in ParameterGrid(param_grid):\n",
    "    # Initialize the NeuralProphet model with current hyperparameters\n",
    "    print([params])\n",
    "    m = NeuralProphet(\n",
    "        yearly_seasonality=False,\n",
    "        weekly_seasonality=True,\n",
    "        n_lags=3,\n",
    "    )\n",
    "    m = m.add_country_holidays(\"TW\")\n",
    "    \n",
    "    lag_regs = (\n",
    "        # ('volume', 8),\n",
    "        # ('high_low_diff', 10),\n",
    "        ('foreign', params['foreign']),\n",
    "        ('investment', params['investment']),\n",
    "        ('dealer', params['dealer'])\n",
    "    )\n",
    "    columes = ['ds', 'y']\n",
    "    for col, lag in lag_regs:\n",
    "        if lag > 0:\n",
    "            m.add_lagged_regressor(col, n_lags=lag)\n",
    "            columes.append(col)\n",
    "    \n",
    "    df_train, df_val = m.split_df(df[columes], valid_p=0.2)\n",
    "    set_random_seed(0)\n",
    "    metrics = m.fit(df_train, validation_df=df_val)\n",
    "    \n",
    "    # Create a new dataframe reaching 365 into the future for our forecast, n_historic_predictions also shows historic data\n",
    "    df_future = m.make_future_dataframe(df[columes], n_historic_predictions=True, periods=7)\n",
    "\n",
    "    # Predict the future\n",
    "    forecast = m.predict(df_future)\n",
    "    \n",
    "    rmse = metrics.iloc[-1]['RMSE_val']\n",
    "    mape = val_mape(df_val, forecast)\n",
    "    results.append({**params, 'RMSE': rmse, 'MAPE': mape})"
   ]
  },
  {
   "cell_type": "code",
   "execution_count": 4,
   "metadata": {},
   "outputs": [
    {
     "data": {
      "text/html": [
       "<div>\n",
       "<style scoped>\n",
       "    .dataframe tbody tr th:only-of-type {\n",
       "        vertical-align: middle;\n",
       "    }\n",
       "\n",
       "    .dataframe tbody tr th {\n",
       "        vertical-align: top;\n",
       "    }\n",
       "\n",
       "    .dataframe thead th {\n",
       "        text-align: right;\n",
       "    }\n",
       "</style>\n",
       "<table border=\"1\" class=\"dataframe\">\n",
       "  <thead>\n",
       "    <tr style=\"text-align: right;\">\n",
       "      <th></th>\n",
       "      <th>dealer</th>\n",
       "      <th>foreign</th>\n",
       "      <th>investment</th>\n",
       "      <th>RMSE</th>\n",
       "      <th>MAPE</th>\n",
       "    </tr>\n",
       "  </thead>\n",
       "  <tbody>\n",
       "    <tr>\n",
       "      <th>0</th>\n",
       "      <td>0</td>\n",
       "      <td>0</td>\n",
       "      <td>0</td>\n",
       "      <td>18.057192</td>\n",
       "      <td>0.013987</td>\n",
       "    </tr>\n",
       "    <tr>\n",
       "      <th>1</th>\n",
       "      <td>0</td>\n",
       "      <td>0</td>\n",
       "      <td>5</td>\n",
       "      <td>17.749821</td>\n",
       "      <td>0.013916</td>\n",
       "    </tr>\n",
       "    <tr>\n",
       "      <th>2</th>\n",
       "      <td>0</td>\n",
       "      <td>0</td>\n",
       "      <td>10</td>\n",
       "      <td>18.220335</td>\n",
       "      <td>0.014399</td>\n",
       "    </tr>\n",
       "    <tr>\n",
       "      <th>3</th>\n",
       "      <td>0</td>\n",
       "      <td>5</td>\n",
       "      <td>0</td>\n",
       "      <td>18.484234</td>\n",
       "      <td>0.014421</td>\n",
       "    </tr>\n",
       "    <tr>\n",
       "      <th>4</th>\n",
       "      <td>0</td>\n",
       "      <td>5</td>\n",
       "      <td>5</td>\n",
       "      <td>18.236444</td>\n",
       "      <td>0.014255</td>\n",
       "    </tr>\n",
       "    <tr>\n",
       "      <th>5</th>\n",
       "      <td>0</td>\n",
       "      <td>5</td>\n",
       "      <td>10</td>\n",
       "      <td>18.934738</td>\n",
       "      <td>0.014747</td>\n",
       "    </tr>\n",
       "    <tr>\n",
       "      <th>6</th>\n",
       "      <td>0</td>\n",
       "      <td>10</td>\n",
       "      <td>0</td>\n",
       "      <td>18.750698</td>\n",
       "      <td>0.014567</td>\n",
       "    </tr>\n",
       "    <tr>\n",
       "      <th>7</th>\n",
       "      <td>0</td>\n",
       "      <td>10</td>\n",
       "      <td>5</td>\n",
       "      <td>18.919357</td>\n",
       "      <td>0.014637</td>\n",
       "    </tr>\n",
       "    <tr>\n",
       "      <th>8</th>\n",
       "      <td>0</td>\n",
       "      <td>10</td>\n",
       "      <td>10</td>\n",
       "      <td>18.647554</td>\n",
       "      <td>0.014579</td>\n",
       "    </tr>\n",
       "    <tr>\n",
       "      <th>9</th>\n",
       "      <td>5</td>\n",
       "      <td>0</td>\n",
       "      <td>0</td>\n",
       "      <td>19.248236</td>\n",
       "      <td>0.015059</td>\n",
       "    </tr>\n",
       "    <tr>\n",
       "      <th>10</th>\n",
       "      <td>5</td>\n",
       "      <td>0</td>\n",
       "      <td>5</td>\n",
       "      <td>19.598728</td>\n",
       "      <td>0.015492</td>\n",
       "    </tr>\n",
       "    <tr>\n",
       "      <th>11</th>\n",
       "      <td>5</td>\n",
       "      <td>0</td>\n",
       "      <td>10</td>\n",
       "      <td>20.390409</td>\n",
       "      <td>0.015927</td>\n",
       "    </tr>\n",
       "    <tr>\n",
       "      <th>12</th>\n",
       "      <td>5</td>\n",
       "      <td>5</td>\n",
       "      <td>0</td>\n",
       "      <td>19.346315</td>\n",
       "      <td>0.015091</td>\n",
       "    </tr>\n",
       "    <tr>\n",
       "      <th>13</th>\n",
       "      <td>5</td>\n",
       "      <td>5</td>\n",
       "      <td>5</td>\n",
       "      <td>19.297327</td>\n",
       "      <td>0.015106</td>\n",
       "    </tr>\n",
       "    <tr>\n",
       "      <th>14</th>\n",
       "      <td>5</td>\n",
       "      <td>5</td>\n",
       "      <td>10</td>\n",
       "      <td>20.377438</td>\n",
       "      <td>0.015885</td>\n",
       "    </tr>\n",
       "    <tr>\n",
       "      <th>15</th>\n",
       "      <td>5</td>\n",
       "      <td>10</td>\n",
       "      <td>0</td>\n",
       "      <td>20.339642</td>\n",
       "      <td>0.015614</td>\n",
       "    </tr>\n",
       "    <tr>\n",
       "      <th>16</th>\n",
       "      <td>5</td>\n",
       "      <td>10</td>\n",
       "      <td>5</td>\n",
       "      <td>19.708361</td>\n",
       "      <td>0.015305</td>\n",
       "    </tr>\n",
       "    <tr>\n",
       "      <th>17</th>\n",
       "      <td>5</td>\n",
       "      <td>10</td>\n",
       "      <td>10</td>\n",
       "      <td>20.965437</td>\n",
       "      <td>0.016258</td>\n",
       "    </tr>\n",
       "    <tr>\n",
       "      <th>18</th>\n",
       "      <td>10</td>\n",
       "      <td>0</td>\n",
       "      <td>0</td>\n",
       "      <td>19.946394</td>\n",
       "      <td>0.015446</td>\n",
       "    </tr>\n",
       "    <tr>\n",
       "      <th>19</th>\n",
       "      <td>10</td>\n",
       "      <td>0</td>\n",
       "      <td>5</td>\n",
       "      <td>20.869514</td>\n",
       "      <td>0.016209</td>\n",
       "    </tr>\n",
       "    <tr>\n",
       "      <th>20</th>\n",
       "      <td>10</td>\n",
       "      <td>0</td>\n",
       "      <td>10</td>\n",
       "      <td>21.393799</td>\n",
       "      <td>0.016326</td>\n",
       "    </tr>\n",
       "    <tr>\n",
       "      <th>21</th>\n",
       "      <td>10</td>\n",
       "      <td>5</td>\n",
       "      <td>0</td>\n",
       "      <td>20.106325</td>\n",
       "      <td>0.015409</td>\n",
       "    </tr>\n",
       "    <tr>\n",
       "      <th>22</th>\n",
       "      <td>10</td>\n",
       "      <td>5</td>\n",
       "      <td>5</td>\n",
       "      <td>20.130743</td>\n",
       "      <td>0.015299</td>\n",
       "    </tr>\n",
       "    <tr>\n",
       "      <th>23</th>\n",
       "      <td>10</td>\n",
       "      <td>5</td>\n",
       "      <td>10</td>\n",
       "      <td>19.386820</td>\n",
       "      <td>0.014985</td>\n",
       "    </tr>\n",
       "    <tr>\n",
       "      <th>24</th>\n",
       "      <td>10</td>\n",
       "      <td>10</td>\n",
       "      <td>0</td>\n",
       "      <td>19.811136</td>\n",
       "      <td>0.015131</td>\n",
       "    </tr>\n",
       "    <tr>\n",
       "      <th>25</th>\n",
       "      <td>10</td>\n",
       "      <td>10</td>\n",
       "      <td>5</td>\n",
       "      <td>19.718441</td>\n",
       "      <td>0.015193</td>\n",
       "    </tr>\n",
       "    <tr>\n",
       "      <th>26</th>\n",
       "      <td>10</td>\n",
       "      <td>10</td>\n",
       "      <td>10</td>\n",
       "      <td>19.771925</td>\n",
       "      <td>0.015274</td>\n",
       "    </tr>\n",
       "  </tbody>\n",
       "</table>\n",
       "</div>"
      ],
      "text/plain": [
       "    dealer  foreign  investment       RMSE      MAPE\n",
       "0        0        0           0  18.057192  0.013987\n",
       "1        0        0           5  17.749821  0.013916\n",
       "2        0        0          10  18.220335  0.014399\n",
       "3        0        5           0  18.484234  0.014421\n",
       "4        0        5           5  18.236444  0.014255\n",
       "5        0        5          10  18.934738  0.014747\n",
       "6        0       10           0  18.750698  0.014567\n",
       "7        0       10           5  18.919357  0.014637\n",
       "8        0       10          10  18.647554  0.014579\n",
       "9        5        0           0  19.248236  0.015059\n",
       "10       5        0           5  19.598728  0.015492\n",
       "11       5        0          10  20.390409  0.015927\n",
       "12       5        5           0  19.346315  0.015091\n",
       "13       5        5           5  19.297327  0.015106\n",
       "14       5        5          10  20.377438  0.015885\n",
       "15       5       10           0  20.339642  0.015614\n",
       "16       5       10           5  19.708361  0.015305\n",
       "17       5       10          10  20.965437  0.016258\n",
       "18      10        0           0  19.946394  0.015446\n",
       "19      10        0           5  20.869514  0.016209\n",
       "20      10        0          10  21.393799  0.016326\n",
       "21      10        5           0  20.106325  0.015409\n",
       "22      10        5           5  20.130743  0.015299\n",
       "23      10        5          10  19.386820  0.014985\n",
       "24      10       10           0  19.811136  0.015131\n",
       "25      10       10           5  19.718441  0.015193\n",
       "26      10       10          10  19.771925  0.015274"
      ]
     },
     "execution_count": 4,
     "metadata": {},
     "output_type": "execute_result"
    }
   ],
   "source": [
    "results_df = pd.DataFrame(results)\n",
    "results_df.to_csv('params.csv')\n",
    "results_df"
   ]
  },
  {
   "cell_type": "code",
   "execution_count": 5,
   "metadata": {},
   "outputs": [
    {
     "data": {
      "text/html": [
       "<div>\n",
       "<style scoped>\n",
       "    .dataframe tbody tr th:only-of-type {\n",
       "        vertical-align: middle;\n",
       "    }\n",
       "\n",
       "    .dataframe tbody tr th {\n",
       "        vertical-align: top;\n",
       "    }\n",
       "\n",
       "    .dataframe thead th {\n",
       "        text-align: right;\n",
       "    }\n",
       "</style>\n",
       "<table border=\"1\" class=\"dataframe\">\n",
       "  <thead>\n",
       "    <tr style=\"text-align: right;\">\n",
       "      <th></th>\n",
       "      <th>dealer</th>\n",
       "      <th>foreign</th>\n",
       "      <th>investment</th>\n",
       "      <th>RMSE</th>\n",
       "      <th>MAPE</th>\n",
       "    </tr>\n",
       "  </thead>\n",
       "  <tbody>\n",
       "    <tr>\n",
       "      <th>1</th>\n",
       "      <td>0</td>\n",
       "      <td>0</td>\n",
       "      <td>5</td>\n",
       "      <td>17.749821</td>\n",
       "      <td>0.013916</td>\n",
       "    </tr>\n",
       "    <tr>\n",
       "      <th>0</th>\n",
       "      <td>0</td>\n",
       "      <td>0</td>\n",
       "      <td>0</td>\n",
       "      <td>18.057192</td>\n",
       "      <td>0.013987</td>\n",
       "    </tr>\n",
       "    <tr>\n",
       "      <th>2</th>\n",
       "      <td>0</td>\n",
       "      <td>0</td>\n",
       "      <td>10</td>\n",
       "      <td>18.220335</td>\n",
       "      <td>0.014399</td>\n",
       "    </tr>\n",
       "    <tr>\n",
       "      <th>4</th>\n",
       "      <td>0</td>\n",
       "      <td>5</td>\n",
       "      <td>5</td>\n",
       "      <td>18.236444</td>\n",
       "      <td>0.014255</td>\n",
       "    </tr>\n",
       "    <tr>\n",
       "      <th>3</th>\n",
       "      <td>0</td>\n",
       "      <td>5</td>\n",
       "      <td>0</td>\n",
       "      <td>18.484234</td>\n",
       "      <td>0.014421</td>\n",
       "    </tr>\n",
       "    <tr>\n",
       "      <th>8</th>\n",
       "      <td>0</td>\n",
       "      <td>10</td>\n",
       "      <td>10</td>\n",
       "      <td>18.647554</td>\n",
       "      <td>0.014579</td>\n",
       "    </tr>\n",
       "    <tr>\n",
       "      <th>6</th>\n",
       "      <td>0</td>\n",
       "      <td>10</td>\n",
       "      <td>0</td>\n",
       "      <td>18.750698</td>\n",
       "      <td>0.014567</td>\n",
       "    </tr>\n",
       "    <tr>\n",
       "      <th>7</th>\n",
       "      <td>0</td>\n",
       "      <td>10</td>\n",
       "      <td>5</td>\n",
       "      <td>18.919357</td>\n",
       "      <td>0.014637</td>\n",
       "    </tr>\n",
       "    <tr>\n",
       "      <th>5</th>\n",
       "      <td>0</td>\n",
       "      <td>5</td>\n",
       "      <td>10</td>\n",
       "      <td>18.934738</td>\n",
       "      <td>0.014747</td>\n",
       "    </tr>\n",
       "    <tr>\n",
       "      <th>9</th>\n",
       "      <td>5</td>\n",
       "      <td>0</td>\n",
       "      <td>0</td>\n",
       "      <td>19.248236</td>\n",
       "      <td>0.015059</td>\n",
       "    </tr>\n",
       "  </tbody>\n",
       "</table>\n",
       "</div>"
      ],
      "text/plain": [
       "   dealer  foreign  investment       RMSE      MAPE\n",
       "1       0        0           5  17.749821  0.013916\n",
       "0       0        0           0  18.057192  0.013987\n",
       "2       0        0          10  18.220335  0.014399\n",
       "4       0        5           5  18.236444  0.014255\n",
       "3       0        5           0  18.484234  0.014421\n",
       "8       0       10          10  18.647554  0.014579\n",
       "6       0       10           0  18.750698  0.014567\n",
       "7       0       10           5  18.919357  0.014637\n",
       "5       0        5          10  18.934738  0.014747\n",
       "9       5        0           0  19.248236  0.015059"
      ]
     },
     "execution_count": 5,
     "metadata": {},
     "output_type": "execute_result"
    }
   ],
   "source": [
    "results_df.sort_values(by=\"RMSE\").head(10)"
   ]
  },
  {
   "cell_type": "code",
   "execution_count": 6,
   "metadata": {},
   "outputs": [
    {
     "data": {
      "text/html": [
       "<div>\n",
       "<style scoped>\n",
       "    .dataframe tbody tr th:only-of-type {\n",
       "        vertical-align: middle;\n",
       "    }\n",
       "\n",
       "    .dataframe tbody tr th {\n",
       "        vertical-align: top;\n",
       "    }\n",
       "\n",
       "    .dataframe thead th {\n",
       "        text-align: right;\n",
       "    }\n",
       "</style>\n",
       "<table border=\"1\" class=\"dataframe\">\n",
       "  <thead>\n",
       "    <tr style=\"text-align: right;\">\n",
       "      <th></th>\n",
       "      <th>dealer</th>\n",
       "      <th>foreign</th>\n",
       "      <th>investment</th>\n",
       "      <th>RMSE</th>\n",
       "      <th>MAPE</th>\n",
       "    </tr>\n",
       "  </thead>\n",
       "  <tbody>\n",
       "    <tr>\n",
       "      <th>1</th>\n",
       "      <td>0</td>\n",
       "      <td>0</td>\n",
       "      <td>5</td>\n",
       "      <td>17.749821</td>\n",
       "      <td>0.013916</td>\n",
       "    </tr>\n",
       "    <tr>\n",
       "      <th>0</th>\n",
       "      <td>0</td>\n",
       "      <td>0</td>\n",
       "      <td>0</td>\n",
       "      <td>18.057192</td>\n",
       "      <td>0.013987</td>\n",
       "    </tr>\n",
       "    <tr>\n",
       "      <th>4</th>\n",
       "      <td>0</td>\n",
       "      <td>5</td>\n",
       "      <td>5</td>\n",
       "      <td>18.236444</td>\n",
       "      <td>0.014255</td>\n",
       "    </tr>\n",
       "    <tr>\n",
       "      <th>2</th>\n",
       "      <td>0</td>\n",
       "      <td>0</td>\n",
       "      <td>10</td>\n",
       "      <td>18.220335</td>\n",
       "      <td>0.014399</td>\n",
       "    </tr>\n",
       "    <tr>\n",
       "      <th>3</th>\n",
       "      <td>0</td>\n",
       "      <td>5</td>\n",
       "      <td>0</td>\n",
       "      <td>18.484234</td>\n",
       "      <td>0.014421</td>\n",
       "    </tr>\n",
       "    <tr>\n",
       "      <th>6</th>\n",
       "      <td>0</td>\n",
       "      <td>10</td>\n",
       "      <td>0</td>\n",
       "      <td>18.750698</td>\n",
       "      <td>0.014567</td>\n",
       "    </tr>\n",
       "    <tr>\n",
       "      <th>8</th>\n",
       "      <td>0</td>\n",
       "      <td>10</td>\n",
       "      <td>10</td>\n",
       "      <td>18.647554</td>\n",
       "      <td>0.014579</td>\n",
       "    </tr>\n",
       "    <tr>\n",
       "      <th>7</th>\n",
       "      <td>0</td>\n",
       "      <td>10</td>\n",
       "      <td>5</td>\n",
       "      <td>18.919357</td>\n",
       "      <td>0.014637</td>\n",
       "    </tr>\n",
       "    <tr>\n",
       "      <th>5</th>\n",
       "      <td>0</td>\n",
       "      <td>5</td>\n",
       "      <td>10</td>\n",
       "      <td>18.934738</td>\n",
       "      <td>0.014747</td>\n",
       "    </tr>\n",
       "    <tr>\n",
       "      <th>23</th>\n",
       "      <td>10</td>\n",
       "      <td>5</td>\n",
       "      <td>10</td>\n",
       "      <td>19.386820</td>\n",
       "      <td>0.014985</td>\n",
       "    </tr>\n",
       "  </tbody>\n",
       "</table>\n",
       "</div>"
      ],
      "text/plain": [
       "    dealer  foreign  investment       RMSE      MAPE\n",
       "1        0        0           5  17.749821  0.013916\n",
       "0        0        0           0  18.057192  0.013987\n",
       "4        0        5           5  18.236444  0.014255\n",
       "2        0        0          10  18.220335  0.014399\n",
       "3        0        5           0  18.484234  0.014421\n",
       "6        0       10           0  18.750698  0.014567\n",
       "8        0       10          10  18.647554  0.014579\n",
       "7        0       10           5  18.919357  0.014637\n",
       "5        0        5          10  18.934738  0.014747\n",
       "23      10        5          10  19.386820  0.014985"
      ]
     },
     "execution_count": 6,
     "metadata": {},
     "output_type": "execute_result"
    }
   ],
   "source": [
    "results_df.sort_values(by=\"MAPE\").head(10)"
   ]
  }
 ],
 "metadata": {
  "kernelspec": {
   "display_name": "Python 3",
   "language": "python",
   "name": "python3"
  },
  "language_info": {
   "codemirror_mode": {
    "name": "ipython",
    "version": 3
   },
   "file_extension": ".py",
   "mimetype": "text/x-python",
   "name": "python",
   "nbconvert_exporter": "python",
   "pygments_lexer": "ipython3",
   "version": "3.11.9"
  }
 },
 "nbformat": 4,
 "nbformat_minor": 2
}
