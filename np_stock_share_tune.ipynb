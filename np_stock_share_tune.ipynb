{
 "cells": [
  {
   "cell_type": "code",
   "execution_count": 1,
   "metadata": {},
   "outputs": [
    {
     "name": "stderr",
     "output_type": "stream",
     "text": [
      "c:\\Users\\nick\\AppData\\Local\\Programs\\Python\\Python311\\Lib\\site-packages\\tqdm\\auto.py:21: TqdmWarning: IProgress not found. Please update jupyter and ipywidgets. See https://ipywidgets.readthedocs.io/en/stable/user_install.html\n",
      "  from .autonotebook import tqdm as notebook_tqdm\n",
      "Importing plotly failed. Interactive plots will not work.\n",
      "Importing plotly failed. Interactive plots will not work.\n"
     ]
    },
    {
     "name": "stdout",
     "output_type": "stream",
     "text": [
      "<class 'pandas.core.frame.DataFrame'>\n",
      "Int64Index: 566 entries, 4 to 569\n",
      "Data columns (total 17 columns):\n",
      " #   Column                    Non-Null Count  Dtype         \n",
      "---  ------                    --------------  -----         \n",
      " 0   Unnamed: 0                566 non-null    int64         \n",
      " 1   ds                        566 non-null    datetime64[ns]\n",
      " 2   open_price                566 non-null    float64       \n",
      " 3   high_price                566 non-null    float64       \n",
      " 4   low_price                 566 non-null    float64       \n",
      " 5   y                         566 non-null    float64       \n",
      " 6   volume                    566 non-null    int64         \n",
      " 7   foreign                   566 non-null    int64         \n",
      " 8   investment                566 non-null    int64         \n",
      " 9   dealer                    566 non-null    int64         \n",
      " 10  ratio_over_400_shares     566 non-null    float64       \n",
      " 11  shareholders_400_to_600   566 non-null    int64         \n",
      " 12  shareholders_600_to_800   566 non-null    int64         \n",
      " 13  shareholders_800_to_1000  566 non-null    int64         \n",
      " 14  ratio_over_1000_shares    566 non-null    float64       \n",
      " 15  high_low_diff             566 non-null    float64       \n",
      " 16  MA                        566 non-null    float64       \n",
      "dtypes: datetime64[ns](1), float64(8), int64(8)\n",
      "memory usage: 79.6 KB\n"
     ]
    }
   ],
   "source": [
    "import pandas as pd\n",
    "from sklearn.model_selection import ParameterGrid\n",
    "from neuralprophet import NeuralProphet, set_log_level, set_random_seed\n",
    "from src.model.features import add_stock_price_feature\n",
    "\n",
    "# Disable logging messages unless there is an error\n",
    "set_log_level(\"ERROR\")\n",
    "\n",
    "df = pd.read_csv('data/stocks/2330_stock_data_0317.csv', parse_dates=['ds'])\n",
    "df = add_stock_price_feature(df)\n",
    "# plt = df.plot(x=\"ds\", y=\"y\", figsize=(15, 5))\n",
    "df.info()"
   ]
  },
  {
   "cell_type": "code",
   "execution_count": 2,
   "metadata": {},
   "outputs": [
    {
     "name": "stdout",
     "output_type": "stream",
     "text": [
      "[{'ratio_over_1000_shares': 0, 'ratio_over_400_shares': 0, 'shareholders_400_to_600': 0, 'shareholders_600_to_800': 0, 'shareholders_800_to_1000': 0}]\n",
      "Training: |          | 0/? [00:00<?, ?it/s]"
     ]
    },
    {
     "name": "stderr",
     "output_type": "stream",
     "text": [
      "WARNING - (py.warnings._showwarnmsg) - c:\\Users\\nick\\AppData\\Local\\Programs\\Python\\Python311\\Lib\\site-packages\\pytorch_lightning\\utilities\\data.py:79: Trying to infer the `batch_size` from an ambiguous collection. The batch size we found is 32. To avoid any miscalculations, use `self.log(..., batch_size=batch_size)`.\n",
      "\n",
      "WARNING - (py.warnings._showwarnmsg) - c:\\Users\\nick\\AppData\\Local\\Programs\\Python\\Python311\\Lib\\site-packages\\pytorch_lightning\\utilities\\data.py:79: Trying to infer the `batch_size` from an ambiguous collection. The batch size we found is 11. To avoid any miscalculations, use `self.log(..., batch_size=batch_size)`.\n",
      "\n",
      "Finding best initial lr: 100%|██████████| 219/219 [00:00<00:00, 265.73it/s]\n"
     ]
    },
    {
     "name": "stdout",
     "output_type": "stream",
     "text": [
      "Training: |          | 0/? [00:09<?, ?it/s, v_num=1634, MAE_val=14.80, RMSE_val=18.10, Loss_val=0.00162, RegLoss_val=0.000, train_loss=0.000691, reg_loss=0.000, MAE=8.240, RMSE=11.90, Loss=0.000666, RegLoss=0.000]\n",
      "Predicting DataLoader 0: 100%|██████████| 1/1 [00:00<00:00, 284.88it/s]\n",
      "[{'ratio_over_1000_shares': 0, 'ratio_over_400_shares': 0, 'shareholders_400_to_600': 0, 'shareholders_600_to_800': 0, 'shareholders_800_to_1000': 5}]\n",
      "Training: |          | 0/? [00:00<?, ?it/s]"
     ]
    },
    {
     "name": "stderr",
     "output_type": "stream",
     "text": [
      "WARNING - (py.warnings._showwarnmsg) - c:\\Users\\nick\\AppData\\Local\\Programs\\Python\\Python311\\Lib\\site-packages\\pytorch_lightning\\utilities\\data.py:79: Trying to infer the `batch_size` from an ambiguous collection. The batch size we found is 9. To avoid any miscalculations, use `self.log(..., batch_size=batch_size)`.\n",
      "\n",
      "Finding best initial lr: 100%|██████████| 219/219 [00:00<00:00, 277.04it/s]\n"
     ]
    },
    {
     "name": "stdout",
     "output_type": "stream",
     "text": [
      "Training: |          | 0/? [00:09<?, ?it/s, v_num=1635, MAE_val=15.00, RMSE_val=18.10, Loss_val=0.00164, RegLoss_val=0.000, train_loss=0.000678, reg_loss=0.000, MAE=8.420, RMSE=11.90, Loss=0.000674, RegLoss=0.000]\n",
      "Predicting DataLoader 0: 100%|██████████| 1/1 [00:00<00:00, 312.52it/s]\n",
      "[{'ratio_over_1000_shares': 0, 'ratio_over_400_shares': 0, 'shareholders_400_to_600': 0, 'shareholders_600_to_800': 5, 'shareholders_800_to_1000': 0}]\n",
      "Training: |          | 0/? [00:00<?, ?it/s]"
     ]
    },
    {
     "name": "stderr",
     "output_type": "stream",
     "text": [
      "Finding best initial lr: 100%|██████████| 219/219 [00:00<00:00, 281.99it/s]\n"
     ]
    },
    {
     "name": "stdout",
     "output_type": "stream",
     "text": [
      "Training: |          | 0/? [00:09<?, ?it/s, v_num=1636, MAE_val=15.80, RMSE_val=18.80, Loss_val=0.00176, RegLoss_val=0.000, train_loss=0.000836, reg_loss=0.000, MAE=9.930, RMSE=13.60, Loss=0.00084, RegLoss=0.000] \n",
      "Predicting DataLoader 0: 100%|██████████| 1/1 [00:00<00:00, 245.28it/s]\n",
      "[{'ratio_over_1000_shares': 0, 'ratio_over_400_shares': 0, 'shareholders_400_to_600': 0, 'shareholders_600_to_800': 5, 'shareholders_800_to_1000': 5}]\n",
      "Training: |          | 0/? [00:00<?, ?it/s]"
     ]
    },
    {
     "name": "stderr",
     "output_type": "stream",
     "text": [
      "Finding best initial lr: 100%|██████████| 219/219 [00:00<00:00, 264.34it/s]\n"
     ]
    },
    {
     "name": "stdout",
     "output_type": "stream",
     "text": [
      "Training: |          | 0/? [00:09<?, ?it/s, v_num=1637, MAE_val=14.70, RMSE_val=17.70, Loss_val=0.00157, RegLoss_val=0.000, train_loss=0.000703, reg_loss=0.000, MAE=8.600, RMSE=12.00, Loss=0.000683, RegLoss=0.000]\n",
      "Predicting DataLoader 0: 100%|██████████| 1/1 [00:00<00:00, 321.18it/s]\n",
      "[{'ratio_over_1000_shares': 0, 'ratio_over_400_shares': 0, 'shareholders_400_to_600': 5, 'shareholders_600_to_800': 0, 'shareholders_800_to_1000': 0}]\n",
      "Training: |          | 0/? [00:00<?, ?it/s]"
     ]
    },
    {
     "name": "stderr",
     "output_type": "stream",
     "text": [
      "Finding best initial lr: 100%|██████████| 219/219 [00:00<00:00, 279.02it/s]\n"
     ]
    },
    {
     "name": "stdout",
     "output_type": "stream",
     "text": [
      "Training: |          | 0/? [00:09<?, ?it/s, v_num=1638, MAE_val=14.40, RMSE_val=17.80, Loss_val=0.00158, RegLoss_val=0.000, train_loss=0.000868, reg_loss=0.000, MAE=10.30, RMSE=14.00, Loss=0.000871, RegLoss=0.000]\n",
      "Predicting DataLoader 0: 100%|██████████| 1/1 [00:00<00:00, 217.11it/s]\n",
      "[{'ratio_over_1000_shares': 0, 'ratio_over_400_shares': 0, 'shareholders_400_to_600': 5, 'shareholders_600_to_800': 0, 'shareholders_800_to_1000': 5}]\n",
      "Training: |          | 0/? [00:00<?, ?it/s]"
     ]
    },
    {
     "name": "stderr",
     "output_type": "stream",
     "text": [
      "Finding best initial lr: 100%|██████████| 219/219 [00:00<00:00, 277.37it/s]\n"
     ]
    },
    {
     "name": "stdout",
     "output_type": "stream",
     "text": [
      "Training: |          | 0/? [00:09<?, ?it/s, v_num=1639, MAE_val=14.20, RMSE_val=17.50, Loss_val=0.00152, RegLoss_val=0.000, train_loss=0.00071, reg_loss=0.000, MAE=8.760, RMSE=12.10, Loss=0.000692, RegLoss=0.000] \n",
      "Predicting DataLoader 0: 100%|██████████| 1/1 [00:00<00:00, 307.97it/s]\n",
      "[{'ratio_over_1000_shares': 0, 'ratio_over_400_shares': 0, 'shareholders_400_to_600': 5, 'shareholders_600_to_800': 5, 'shareholders_800_to_1000': 0}]\n",
      "Epoch 140: 100%|██████████| 140/140 [00:53<00:00,  2.59it/s]    \n",
      "Epoch 140: 100%|██████████| 140/140 [00:43<00:00,  3.23it/s]\n",
      "Epoch 140: 100%|██████████| 140/140 [00:32<00:00,  4.28it/s]    \n",
      "Epoch 140: 100%|██████████| 140/140 [00:21<00:00,  6.42it/s]    \n",
      "Epoch 140: 100%|██████████| 140/140 [00:11<00:00, 12.62it/s]    \n",
      "Epoch 140: 100%|██████████| 140/140 [00:00<00:00, 428.27it/s]   \n",
      "Training: |          | 0/? [00:00<?, ?it/s]"
     ]
    },
    {
     "name": "stderr",
     "output_type": "stream",
     "text": [
      "Finding best initial lr: 100%|██████████| 219/219 [00:00<00:00, 276.14it/s]\n"
     ]
    },
    {
     "name": "stdout",
     "output_type": "stream",
     "text": [
      "Training: |          | 0/? [00:09<?, ?it/s, v_num=1640, MAE_val=14.10, RMSE_val=17.60, Loss_val=0.00154, RegLoss_val=0.000, train_loss=0.000722, reg_loss=0.000, MAE=8.850, RMSE=12.20, Loss=0.000704, RegLoss=0.000]\n",
      "Predicting DataLoader 0: 100%|██████████| 1/1 [00:00<00:00, 250.09it/s]\n",
      "[{'ratio_over_1000_shares': 0, 'ratio_over_400_shares': 0, 'shareholders_400_to_600': 5, 'shareholders_600_to_800': 5, 'shareholders_800_to_1000': 5}]\n",
      "Training: |          | 0/? [00:00<?, ?it/s]"
     ]
    },
    {
     "name": "stderr",
     "output_type": "stream",
     "text": [
      "Finding best initial lr: 100%|██████████| 219/219 [00:00<00:00, 280.87it/s]\n"
     ]
    },
    {
     "name": "stdout",
     "output_type": "stream",
     "text": [
      "Training: |          | 0/? [00:09<?, ?it/s, v_num=1641, MAE_val=14.50, RMSE_val=17.90, Loss_val=0.00159, RegLoss_val=0.000, train_loss=0.000793, reg_loss=0.000, MAE=9.640, RMSE=13.50, Loss=0.000804, RegLoss=0.000]\n",
      "Predicting DataLoader 0: 100%|██████████| 1/1 [00:00<00:00, 249.84it/s]\n",
      "[{'ratio_over_1000_shares': 0, 'ratio_over_400_shares': 5, 'shareholders_400_to_600': 0, 'shareholders_600_to_800': 0, 'shareholders_800_to_1000': 0}]\n",
      "Training: |          | 0/? [00:00<?, ?it/s]"
     ]
    },
    {
     "name": "stderr",
     "output_type": "stream",
     "text": [
      "Finding best initial lr: 100%|██████████| 219/219 [00:00<00:00, 275.09it/s]\n"
     ]
    },
    {
     "name": "stdout",
     "output_type": "stream",
     "text": [
      "Training: |          | 0/? [00:09<?, ?it/s, v_num=1642, MAE_val=14.90, RMSE_val=18.10, Loss_val=0.00163, RegLoss_val=0.000, train_loss=0.000929, reg_loss=0.000, MAE=9.660, RMSE=14.10, Loss=0.000932, RegLoss=0.000]\n",
      "Predicting DataLoader 0: 100%|██████████| 1/1 [00:00<00:00, 250.03it/s]\n",
      "[{'ratio_over_1000_shares': 0, 'ratio_over_400_shares': 5, 'shareholders_400_to_600': 0, 'shareholders_600_to_800': 0, 'shareholders_800_to_1000': 5}]\n",
      "Training: |          | 0/? [00:00<?, ?it/s]"
     ]
    },
    {
     "name": "stderr",
     "output_type": "stream",
     "text": [
      "Finding best initial lr: 100%|██████████| 219/219 [00:00<00:00, 280.92it/s]\n"
     ]
    },
    {
     "name": "stdout",
     "output_type": "stream",
     "text": [
      "Training: |          | 0/? [00:09<?, ?it/s, v_num=1643, MAE_val=15.20, RMSE_val=18.40, Loss_val=0.00169, RegLoss_val=0.000, train_loss=0.000708, reg_loss=0.000, MAE=8.480, RMSE=12.10, Loss=0.000694, RegLoss=0.000]\n",
      "Predicting DataLoader 0: 100%|██████████| 1/1 [00:00<00:00, 221.80it/s]\n",
      "[{'ratio_over_1000_shares': 0, 'ratio_over_400_shares': 5, 'shareholders_400_to_600': 0, 'shareholders_600_to_800': 5, 'shareholders_800_to_1000': 0}]\n",
      "Training: |          | 0/? [00:00<?, ?it/s]"
     ]
    },
    {
     "name": "stderr",
     "output_type": "stream",
     "text": [
      "Finding best initial lr: 100%|██████████| 219/219 [00:00<00:00, 278.33it/s]\n"
     ]
    },
    {
     "name": "stdout",
     "output_type": "stream",
     "text": [
      "Training: |          | 0/? [00:09<?, ?it/s, v_num=1644, MAE_val=14.50, RMSE_val=17.80, Loss_val=0.00158, RegLoss_val=0.000, train_loss=0.00072, reg_loss=0.000, MAE=8.480, RMSE=12.10, Loss=0.000709, RegLoss=0.000] \n",
      "Predicting DataLoader 0: 100%|██████████| 1/1 [00:00<00:00, 229.22it/s]\n",
      "[{'ratio_over_1000_shares': 0, 'ratio_over_400_shares': 5, 'shareholders_400_to_600': 0, 'shareholders_600_to_800': 5, 'shareholders_800_to_1000': 5}]\n",
      "Training: |          | 0/? [00:00<?, ?it/s]"
     ]
    },
    {
     "name": "stderr",
     "output_type": "stream",
     "text": [
      "Finding best initial lr: 100%|██████████| 219/219 [00:00<00:00, 269.17it/s]\n"
     ]
    },
    {
     "name": "stdout",
     "output_type": "stream",
     "text": [
      "Training: |          | 0/? [00:09<?, ?it/s, v_num=1645, MAE_val=14.80, RMSE_val=18.10, Loss_val=0.00163, RegLoss_val=0.000, train_loss=0.000752, reg_loss=0.000, MAE=8.980, RMSE=12.90, Loss=0.000754, RegLoss=0.000]\n",
      "Predicting DataLoader 0: 100%|██████████| 1/1 [00:00<00:00, 331.15it/s]\n",
      "[{'ratio_over_1000_shares': 0, 'ratio_over_400_shares': 5, 'shareholders_400_to_600': 5, 'shareholders_600_to_800': 0, 'shareholders_800_to_1000': 0}]\n",
      "Training: |          | 0/? [00:00<?, ?it/s]"
     ]
    },
    {
     "name": "stderr",
     "output_type": "stream",
     "text": [
      "Finding best initial lr: 100%|██████████| 219/219 [00:00<00:00, 279.44it/s]\n"
     ]
    },
    {
     "name": "stdout",
     "output_type": "stream",
     "text": [
      "Training: |          | 0/? [00:09<?, ?it/s, v_num=1646, MAE_val=14.20, RMSE_val=17.60, Loss_val=0.00154, RegLoss_val=0.000, train_loss=0.000711, reg_loss=0.000, MAE=8.500, RMSE=12.10, Loss=0.000699, RegLoss=0.000]\n",
      "Predicting DataLoader 0: 100%|██████████| 1/1 [00:00<00:00, 250.02it/s]\n",
      "[{'ratio_over_1000_shares': 0, 'ratio_over_400_shares': 5, 'shareholders_400_to_600': 5, 'shareholders_600_to_800': 0, 'shareholders_800_to_1000': 5}]\n",
      "Epoch 140: 100%|██████████| 140/140 [01:04<00:00,  2.17it/s]    \n",
      "Epoch 140: 100%|██████████| 140/140 [00:53<00:00,  2.59it/s]    \n",
      "Epoch 140: 100%|██████████| 140/140 [00:43<00:00,  3.23it/s]    \n",
      "Epoch 140: 100%|██████████| 140/140 [00:32<00:00,  4.29it/s]    \n",
      "Epoch 140: 100%|██████████| 140/140 [00:21<00:00,  6.39it/s]    \n",
      "Epoch 140: 100%|██████████| 140/140 [00:11<00:00, 12.58it/s]    \n",
      "Epoch 140: 100%|██████████| 140/140 [00:00<00:00, 376.57it/s]   \n"
     ]
    },
    {
     "name": "stderr",
     "output_type": "stream",
     "text": [
      "Finding best initial lr: 100%|██████████| 219/219 [00:00<00:00, 269.13it/s]\n"
     ]
    },
    {
     "name": "stdout",
     "output_type": "stream",
     "text": [
      "Training: |          | 0/? [00:09<?, ?it/s, v_num=1647, MAE_val=14.60, RMSE_val=18.10, Loss_val=0.00163, RegLoss_val=0.000, train_loss=0.000743, reg_loss=0.000, MAE=8.970, RMSE=13.00, Loss=0.000754, RegLoss=0.000]\n",
      "Predicting DataLoader 0: 100%|██████████| 1/1 [00:00<00:00, 298.17it/s]\n",
      "[{'ratio_over_1000_shares': 0, 'ratio_over_400_shares': 5, 'shareholders_400_to_600': 5, 'shareholders_600_to_800': 5, 'shareholders_800_to_1000': 0}]\n",
      "Training: |          | 0/? [00:00<?, ?it/s]"
     ]
    },
    {
     "name": "stderr",
     "output_type": "stream",
     "text": [
      "Finding best initial lr: 100%|██████████| 219/219 [00:00<00:00, 275.86it/s]\n"
     ]
    },
    {
     "name": "stdout",
     "output_type": "stream",
     "text": [
      "Training: |          | 0/? [00:09<?, ?it/s, v_num=1648, MAE_val=15.20, RMSE_val=18.60, Loss_val=0.00172, RegLoss_val=0.000, train_loss=0.000842, reg_loss=0.000, MAE=9.780, RMSE=14.00, Loss=0.000876, RegLoss=0.000]\n",
      "Predicting DataLoader 0: 100%|██████████| 1/1 [00:00<00:00, 246.83it/s]\n",
      "[{'ratio_over_1000_shares': 0, 'ratio_over_400_shares': 5, 'shareholders_400_to_600': 5, 'shareholders_600_to_800': 5, 'shareholders_800_to_1000': 5}]\n",
      "Training: |          | 0/? [00:00<?, ?it/s]"
     ]
    },
    {
     "name": "stderr",
     "output_type": "stream",
     "text": [
      "Finding best initial lr: 100%|██████████| 219/219 [00:00<00:00, 271.23it/s]\n"
     ]
    },
    {
     "name": "stdout",
     "output_type": "stream",
     "text": [
      "Training: |          | 0/? [00:09<?, ?it/s, v_num=1649, MAE_val=14.60, RMSE_val=17.90, Loss_val=0.0016, RegLoss_val=0.000, train_loss=0.000781, reg_loss=0.000, MAE=9.280, RMSE=12.80, Loss=0.000749, RegLoss=0.000] \n",
      "Predicting DataLoader 0: 100%|██████████| 1/1 [00:00<00:00, 249.90it/s]\n",
      "[{'ratio_over_1000_shares': 5, 'ratio_over_400_shares': 0, 'shareholders_400_to_600': 0, 'shareholders_600_to_800': 0, 'shareholders_800_to_1000': 0}]\n",
      "Training: |          | 0/? [00:00<?, ?it/s]"
     ]
    },
    {
     "name": "stderr",
     "output_type": "stream",
     "text": [
      "Finding best initial lr: 100%|██████████| 219/219 [00:00<00:00, 277.14it/s]\n"
     ]
    },
    {
     "name": "stdout",
     "output_type": "stream",
     "text": [
      "Training: |          | 0/? [00:09<?, ?it/s, v_num=1650, MAE_val=14.90, RMSE_val=18.00, Loss_val=0.00161, RegLoss_val=0.000, train_loss=0.000935, reg_loss=0.000, MAE=9.700, RMSE=14.10, Loss=0.000936, RegLoss=0.000]\n",
      "Predicting DataLoader 0: 100%|██████████| 1/1 [00:00<00:00, 275.65it/s]\n",
      "[{'ratio_over_1000_shares': 5, 'ratio_over_400_shares': 0, 'shareholders_400_to_600': 0, 'shareholders_600_to_800': 0, 'shareholders_800_to_1000': 5}]\n",
      "Training: |          | 0/? [00:00<?, ?it/s]"
     ]
    },
    {
     "name": "stderr",
     "output_type": "stream",
     "text": [
      "Finding best initial lr: 100%|██████████| 219/219 [00:00<00:00, 271.13it/s]\n"
     ]
    },
    {
     "name": "stdout",
     "output_type": "stream",
     "text": [
      "Training: |          | 0/? [00:09<?, ?it/s, v_num=1651, MAE_val=15.10, RMSE_val=18.20, Loss_val=0.00164, RegLoss_val=0.000, train_loss=0.000658, reg_loss=0.000, MAE=8.130, RMSE=11.50, Loss=0.000643, RegLoss=0.000]\n",
      "Predicting DataLoader 0: 100%|██████████| 1/1 [00:00<00:00, 241.19it/s]\n",
      "[{'ratio_over_1000_shares': 5, 'ratio_over_400_shares': 0, 'shareholders_400_to_600': 0, 'shareholders_600_to_800': 5, 'shareholders_800_to_1000': 0}]\n",
      "Training: |          | 0/? [00:00<?, ?it/s]"
     ]
    },
    {
     "name": "stderr",
     "output_type": "stream",
     "text": [
      "Finding best initial lr: 100%|██████████| 219/219 [00:00<00:00, 266.62it/s]\n"
     ]
    },
    {
     "name": "stdout",
     "output_type": "stream",
     "text": [
      "Training: |          | 0/? [00:09<?, ?it/s, v_num=1652, MAE_val=15.30, RMSE_val=18.40, Loss_val=0.00168, RegLoss_val=0.000, train_loss=0.000674, reg_loss=0.000, MAE=8.160, RMSE=11.70, Loss=0.000658, RegLoss=0.000]\n",
      "Predicting DataLoader 0: 100%|██████████| 1/1 [00:00<00:00, 225.97it/s]\n",
      "[{'ratio_over_1000_shares': 5, 'ratio_over_400_shares': 0, 'shareholders_400_to_600': 0, 'shareholders_600_to_800': 5, 'shareholders_800_to_1000': 5}]\n",
      "Training: |          | 0/? [00:00<?, ?it/s]"
     ]
    },
    {
     "name": "stderr",
     "output_type": "stream",
     "text": [
      "Finding best initial lr: 100%|██████████| 219/219 [00:00<00:00, 269.18it/s]\n"
     ]
    },
    {
     "name": "stdout",
     "output_type": "stream",
     "text": [
      "Training: |          | 0/? [00:09<?, ?it/s, v_num=1653, MAE_val=15.90, RMSE_val=19.40, Loss_val=0.00187, RegLoss_val=0.000, train_loss=0.000865, reg_loss=0.000, MAE=10.00, RMSE=13.90, Loss=0.000846, RegLoss=0.000]\n",
      "Predicting DataLoader 0: 100%|██████████| 1/1 [00:00<00:00, 262.49it/s]\n",
      "[{'ratio_over_1000_shares': 5, 'ratio_over_400_shares': 0, 'shareholders_400_to_600': 5, 'shareholders_600_to_800': 0, 'shareholders_800_to_1000': 0}]\n",
      "Training: |          | 0/? [00:00<?, ?it/s]"
     ]
    },
    {
     "name": "stderr",
     "output_type": "stream",
     "text": [
      "Finding best initial lr: 100%|██████████| 219/219 [00:00<00:00, 271.04it/s]\n"
     ]
    },
    {
     "name": "stdout",
     "output_type": "stream",
     "text": [
      "Training: |          | 0/? [00:09<?, ?it/s, v_num=1654, MAE_val=14.80, RMSE_val=18.20, Loss_val=0.00166, RegLoss_val=0.000, train_loss=0.000682, reg_loss=0.000, MAE=8.520, RMSE=11.90, Loss=0.000666, RegLoss=0.000]\n",
      "Epoch 140: 100%|██████████| 140/140 [01:16<00:00,  1.83it/s]    \n",
      "Epoch 140: 100%|██████████| 140/140 [01:05<00:00,  2.14it/s]    \n",
      "Epoch 140: 100%|██████████| 140/140 [00:54<00:00,  2.57it/s]    \n",
      "Epoch 140: 100%|██████████| 140/140 [00:43<00:00,  3.20it/s]    \n",
      "Epoch 140: 100%|██████████| 140/140 [00:32<00:00,  4.26it/s]    \n",
      "Epoch 140: 100%|██████████| 140/140 [00:21<00:00,  6.39it/s]\n",
      "Epoch 140: 100%|██████████| 140/140 [00:10<00:00, 12.74it/s]\n",
      "Predicting DataLoader 0: 100%|██████████| 1/1 [00:00<00:00, 249.74it/s]\n",
      "[{'ratio_over_1000_shares': 5, 'ratio_over_400_shares': 0, 'shareholders_400_to_600': 5, 'shareholders_600_to_800': 0, 'shareholders_800_to_1000': 5}]\n",
      "Training: |          | 0/? [00:00<?, ?it/s]"
     ]
    },
    {
     "name": "stderr",
     "output_type": "stream",
     "text": [
      "Finding best initial lr: 100%|██████████| 219/219 [00:00<00:00, 278.51it/s]\n"
     ]
    },
    {
     "name": "stdout",
     "output_type": "stream",
     "text": [
      "Training: |          | 0/? [00:09<?, ?it/s, v_num=1655, MAE_val=15.60, RMSE_val=19.40, Loss_val=0.00188, RegLoss_val=0.000, train_loss=0.000878, reg_loss=0.000, MAE=10.20, RMSE=14.40, Loss=0.000887, RegLoss=0.000]\n",
      "Predicting DataLoader 0: 100%|██████████| 1/1 [00:00<00:00, 250.05it/s]\n",
      "[{'ratio_over_1000_shares': 5, 'ratio_over_400_shares': 0, 'shareholders_400_to_600': 5, 'shareholders_600_to_800': 5, 'shareholders_800_to_1000': 0}]\n",
      "Training: |          | 0/? [00:00<?, ?it/s]"
     ]
    },
    {
     "name": "stderr",
     "output_type": "stream",
     "text": [
      "Finding best initial lr: 100%|██████████| 219/219 [00:00<00:00, 280.55it/s]\n"
     ]
    },
    {
     "name": "stdout",
     "output_type": "stream",
     "text": [
      "Training: |          | 0/? [00:09<?, ?it/s, v_num=1656, MAE_val=15.20, RMSE_val=19.10, Loss_val=0.00182, RegLoss_val=0.000, train_loss=0.000875, reg_loss=0.000, MAE=10.10, RMSE=14.20, Loss=0.000874, RegLoss=0.000]\n",
      "Predicting DataLoader 0: 100%|██████████| 1/1 [00:00<00:00, 153.59it/s]\n",
      "[{'ratio_over_1000_shares': 5, 'ratio_over_400_shares': 0, 'shareholders_400_to_600': 5, 'shareholders_600_to_800': 5, 'shareholders_800_to_1000': 5}]\n",
      "Training: |          | 0/? [00:00<?, ?it/s]"
     ]
    },
    {
     "name": "stderr",
     "output_type": "stream",
     "text": [
      "Finding best initial lr: 100%|██████████| 219/219 [00:00<00:00, 262.87it/s]\n"
     ]
    },
    {
     "name": "stdout",
     "output_type": "stream",
     "text": [
      "Training: |          | 0/? [00:09<?, ?it/s, v_num=1657, MAE_val=16.10, RMSE_val=19.20, Loss_val=0.00183, RegLoss_val=0.000, train_loss=0.000767, reg_loss=0.000, MAE=9.340, RMSE=12.80, Loss=0.000759, RegLoss=0.000]\n",
      "Predicting DataLoader 0: 100%|██████████| 1/1 [00:00<00:00, 235.00it/s]\n",
      "[{'ratio_over_1000_shares': 5, 'ratio_over_400_shares': 5, 'shareholders_400_to_600': 0, 'shareholders_600_to_800': 0, 'shareholders_800_to_1000': 0}]\n",
      "Training: |          | 0/? [00:00<?, ?it/s]"
     ]
    },
    {
     "name": "stderr",
     "output_type": "stream",
     "text": [
      "Finding best initial lr: 100%|██████████| 219/219 [00:00<00:00, 277.26it/s]\n"
     ]
    },
    {
     "name": "stdout",
     "output_type": "stream",
     "text": [
      "Training: |          | 0/? [00:09<?, ?it/s, v_num=1658, MAE_val=14.80, RMSE_val=18.10, Loss_val=0.00164, RegLoss_val=0.000, train_loss=0.000688, reg_loss=0.000, MAE=8.240, RMSE=11.80, Loss=0.000677, RegLoss=0.000]\n",
      "Predicting DataLoader 0: 100%|██████████| 1/1 [00:00<00:00, 249.99it/s]\n",
      "[{'ratio_over_1000_shares': 5, 'ratio_over_400_shares': 5, 'shareholders_400_to_600': 0, 'shareholders_600_to_800': 0, 'shareholders_800_to_1000': 5}]\n",
      "Training: |          | 0/? [00:00<?, ?it/s]"
     ]
    },
    {
     "name": "stderr",
     "output_type": "stream",
     "text": [
      "Finding best initial lr: 100%|██████████| 219/219 [00:00<00:00, 276.15it/s]\n"
     ]
    },
    {
     "name": "stdout",
     "output_type": "stream",
     "text": [
      "Training: |          | 0/? [00:09<?, ?it/s, v_num=1659, MAE_val=16.00, RMSE_val=19.30, Loss_val=0.00186, RegLoss_val=0.000, train_loss=0.000724, reg_loss=0.000, MAE=9.060, RMSE=12.80, Loss=0.00073, RegLoss=0.000] \n",
      "Predicting DataLoader 0: 100%|██████████| 1/1 [00:00<00:00, 285.33it/s]\n",
      "[{'ratio_over_1000_shares': 5, 'ratio_over_400_shares': 5, 'shareholders_400_to_600': 0, 'shareholders_600_to_800': 5, 'shareholders_800_to_1000': 0}]\n",
      "Training: |          | 0/? [00:00<?, ?it/s]"
     ]
    },
    {
     "name": "stderr",
     "output_type": "stream",
     "text": [
      "Finding best initial lr: 100%|██████████| 219/219 [00:00<00:00, 274.91it/s]\n"
     ]
    },
    {
     "name": "stdout",
     "output_type": "stream",
     "text": [
      "Training: |          | 0/? [00:09<?, ?it/s, v_num=1660, MAE_val=15.20, RMSE_val=18.50, Loss_val=0.0017, RegLoss_val=0.000, train_loss=0.000733, reg_loss=0.000, MAE=9.040, RMSE=12.80, Loss=0.000732, RegLoss=0.000] \n",
      "Predicting DataLoader 0: 100%|██████████| 1/1 [00:00<00:00, 235.37it/s]\n",
      "[{'ratio_over_1000_shares': 5, 'ratio_over_400_shares': 5, 'shareholders_400_to_600': 0, 'shareholders_600_to_800': 5, 'shareholders_800_to_1000': 5}]\n",
      "Training: |          | 0/? [00:00<?, ?it/s]"
     ]
    },
    {
     "name": "stderr",
     "output_type": "stream",
     "text": [
      "Finding best initial lr: 100%|██████████| 219/219 [00:00<00:00, 272.20it/s]\n"
     ]
    },
    {
     "name": "stdout",
     "output_type": "stream",
     "text": [
      "Training: |          | 0/? [00:10<?, ?it/s, v_num=1661, MAE_val=17.00, RMSE_val=20.50, Loss_val=0.00209, RegLoss_val=0.000, train_loss=0.000754, reg_loss=0.000, MAE=9.290, RMSE=12.50, Loss=0.000728, RegLoss=0.000]\n",
      "Epoch 140: 100%|██████████| 140/140 [01:16<00:00,  1.82it/s]    \n",
      "Epoch 140: 100%|██████████| 140/140 [01:05<00:00,  2.12it/s]\n",
      "Epoch 140: 100%|██████████| 140/140 [00:55<00:00,  2.54it/s]    \n",
      "Epoch 140: 100%|██████████| 140/140 [00:44<00:00,  3.16it/s]    \n",
      "Epoch 140: 100%|██████████| 140/140 [00:33<00:00,  4.20it/s]    \n",
      "Epoch 140: 100%|██████████| 140/140 [00:22<00:00,  6.25it/s]    \n",
      "Epoch 140: 100%|██████████| 140/140 [00:11<00:00, 12.33it/s]   \n",
      "Predicting DataLoader 0: 100%|██████████| 1/1 [00:00<00:00, 199.90it/s]\n",
      "[{'ratio_over_1000_shares': 5, 'ratio_over_400_shares': 5, 'shareholders_400_to_600': 5, 'shareholders_600_to_800': 0, 'shareholders_800_to_1000': 0}]\n",
      "Training: |          | 0/? [00:00<?, ?it/s]"
     ]
    },
    {
     "name": "stderr",
     "output_type": "stream",
     "text": [
      "Finding best initial lr: 100%|██████████| 219/219 [00:00<00:00, 269.31it/s]\n"
     ]
    },
    {
     "name": "stdout",
     "output_type": "stream",
     "text": [
      "Training: |          | 0/? [00:09<?, ?it/s, v_num=1662, MAE_val=14.90, RMSE_val=18.30, Loss_val=0.00166, RegLoss_val=0.000, train_loss=0.000726, reg_loss=0.000, MAE=9.130, RMSE=12.90, Loss=0.000735, RegLoss=0.000]\n",
      "Predicting DataLoader 0: 100%|██████████| 1/1 [00:00<00:00, 229.72it/s]\n",
      "[{'ratio_over_1000_shares': 5, 'ratio_over_400_shares': 5, 'shareholders_400_to_600': 5, 'shareholders_600_to_800': 0, 'shareholders_800_to_1000': 5}]\n",
      "Training: |          | 0/? [00:00<?, ?it/s]"
     ]
    },
    {
     "name": "stderr",
     "output_type": "stream",
     "text": [
      "Finding best initial lr: 100%|██████████| 219/219 [00:00<00:00, 271.24it/s]\n"
     ]
    },
    {
     "name": "stdout",
     "output_type": "stream",
     "text": [
      "Training: |          | 0/? [00:09<?, ?it/s, v_num=1663, MAE_val=17.20, RMSE_val=21.30, Loss_val=0.00227, RegLoss_val=0.000, train_loss=0.000754, reg_loss=0.000, MAE=9.140, RMSE=12.60, Loss=0.000724, RegLoss=0.000]\n",
      "Predicting DataLoader 0: 100%|██████████| 1/1 [00:00<00:00, 308.29it/s]\n",
      "[{'ratio_over_1000_shares': 5, 'ratio_over_400_shares': 5, 'shareholders_400_to_600': 5, 'shareholders_600_to_800': 5, 'shareholders_800_to_1000': 0}]\n",
      "Training: |          | 0/? [00:00<?, ?it/s]"
     ]
    },
    {
     "name": "stderr",
     "output_type": "stream",
     "text": [
      "Finding best initial lr: 100%|██████████| 219/219 [00:00<00:00, 264.13it/s]\n"
     ]
    },
    {
     "name": "stdout",
     "output_type": "stream",
     "text": [
      "Training: |          | 0/? [00:10<?, ?it/s, v_num=1664, MAE_val=16.30, RMSE_val=20.50, Loss_val=0.00209, RegLoss_val=0.000, train_loss=0.000789, reg_loss=0.000, MAE=9.400, RMSE=12.90, Loss=0.000759, RegLoss=0.000]\n",
      "Predicting DataLoader 0: 100%|██████████| 1/1 [00:00<00:00, 272.94it/s]\n",
      "[{'ratio_over_1000_shares': 5, 'ratio_over_400_shares': 5, 'shareholders_400_to_600': 5, 'shareholders_600_to_800': 5, 'shareholders_800_to_1000': 5}]\n",
      "Training: |          | 0/? [00:00<?, ?it/s]"
     ]
    },
    {
     "name": "stderr",
     "output_type": "stream",
     "text": [
      "Finding best initial lr: 100%|██████████| 219/219 [00:00<00:00, 270.46it/s]\n"
     ]
    },
    {
     "name": "stdout",
     "output_type": "stream",
     "text": [
      "Training: |          | 0/? [00:10<?, ?it/s, v_num=1665, MAE_val=17.00, RMSE_val=20.70, Loss_val=0.00213, RegLoss_val=0.000, train_loss=0.000881, reg_loss=0.000, MAE=10.30, RMSE=14.30, Loss=0.000926, RegLoss=0.000]\n",
      "Predicting DataLoader 0: 100%|██████████| 1/1 [00:00<00:00, 285.06it/s]\n"
     ]
    }
   ],
   "source": [
    "from src.model.utils import val_mape\n",
    "\n",
    "param_grid = {\n",
    "    'ratio_over_400_shares': [0, 5],\n",
    "    'shareholders_400_to_600': [0, 5],\n",
    "    'shareholders_600_to_800': [0, 5],\n",
    "    'shareholders_800_to_1000': [0, 5],\n",
    "    'ratio_over_1000_shares': [0, 5],\n",
    "}\n",
    "\n",
    "results = []\n",
    "# Iterate over each combination of hyperparameters\n",
    "for params in ParameterGrid(param_grid):\n",
    "    # Initialize the NeuralProphet model with current hyperparameters\n",
    "    print([params])\n",
    "    m = NeuralProphet(\n",
    "        yearly_seasonality=False,\n",
    "        weekly_seasonality=True,\n",
    "        n_lags=3,\n",
    "    )\n",
    "    m = m.add_country_holidays(\"TW\")\n",
    "    \n",
    "    lag_regs = (\n",
    "        # ('volume', 8),\n",
    "        # ('high_low_diff', 10),\n",
    "        ('ratio_over_400_shares', params['ratio_over_400_shares']),\n",
    "        ('shareholders_400_to_600', params['shareholders_400_to_600']),\n",
    "        ('shareholders_600_to_800', params['shareholders_600_to_800']),\n",
    "        ('shareholders_800_to_1000', params['shareholders_800_to_1000']),\n",
    "        ('ratio_over_1000_shares', params['ratio_over_1000_shares']),\n",
    "    )\n",
    "    columes = ['ds', 'y']\n",
    "    for col, lag in lag_regs:\n",
    "        if lag > 0:\n",
    "            m.add_lagged_regressor(col, n_lags=lag)\n",
    "            columes.append(col)\n",
    "    \n",
    "    df_train, df_val = m.split_df(df[columes], valid_p=0.2)\n",
    "    set_random_seed(0)\n",
    "    metrics = m.fit(df_train, validation_df=df_val)\n",
    "    \n",
    "    # Create a new dataframe reaching 365 into the future for our forecast, n_historic_predictions also shows historic data\n",
    "    df_future = m.make_future_dataframe(df[columes], n_historic_predictions=True, periods=7)\n",
    "\n",
    "    # Predict the future\n",
    "    forecast = m.predict(df_future)\n",
    "    \n",
    "    rmse = metrics.iloc[-1]['RMSE_val']\n",
    "    mape = val_mape(df_val, forecast)\n",
    "    results.append({**params, 'RMSE': rmse, 'MAPE': mape})"
   ]
  },
  {
   "cell_type": "code",
   "execution_count": 3,
   "metadata": {},
   "outputs": [
    {
     "data": {
      "text/html": [
       "<div>\n",
       "<style scoped>\n",
       "    .dataframe tbody tr th:only-of-type {\n",
       "        vertical-align: middle;\n",
       "    }\n",
       "\n",
       "    .dataframe tbody tr th {\n",
       "        vertical-align: top;\n",
       "    }\n",
       "\n",
       "    .dataframe thead th {\n",
       "        text-align: right;\n",
       "    }\n",
       "</style>\n",
       "<table border=\"1\" class=\"dataframe\">\n",
       "  <thead>\n",
       "    <tr style=\"text-align: right;\">\n",
       "      <th></th>\n",
       "      <th>ratio_over_1000_shares</th>\n",
       "      <th>ratio_over_400_shares</th>\n",
       "      <th>shareholders_400_to_600</th>\n",
       "      <th>shareholders_600_to_800</th>\n",
       "      <th>shareholders_800_to_1000</th>\n",
       "      <th>RMSE</th>\n",
       "      <th>MAPE</th>\n",
       "    </tr>\n",
       "  </thead>\n",
       "  <tbody>\n",
       "    <tr>\n",
       "      <th>0</th>\n",
       "      <td>0</td>\n",
       "      <td>0</td>\n",
       "      <td>0</td>\n",
       "      <td>0</td>\n",
       "      <td>0</td>\n",
       "      <td>18.057192</td>\n",
       "      <td>0.013987</td>\n",
       "    </tr>\n",
       "    <tr>\n",
       "      <th>1</th>\n",
       "      <td>0</td>\n",
       "      <td>0</td>\n",
       "      <td>0</td>\n",
       "      <td>0</td>\n",
       "      <td>5</td>\n",
       "      <td>18.149027</td>\n",
       "      <td>0.014366</td>\n",
       "    </tr>\n",
       "    <tr>\n",
       "      <th>2</th>\n",
       "      <td>0</td>\n",
       "      <td>0</td>\n",
       "      <td>0</td>\n",
       "      <td>5</td>\n",
       "      <td>0</td>\n",
       "      <td>18.789856</td>\n",
       "      <td>0.015052</td>\n",
       "    </tr>\n",
       "    <tr>\n",
       "      <th>3</th>\n",
       "      <td>0</td>\n",
       "      <td>0</td>\n",
       "      <td>0</td>\n",
       "      <td>5</td>\n",
       "      <td>5</td>\n",
       "      <td>17.737442</td>\n",
       "      <td>0.014084</td>\n",
       "    </tr>\n",
       "    <tr>\n",
       "      <th>4</th>\n",
       "      <td>0</td>\n",
       "      <td>0</td>\n",
       "      <td>5</td>\n",
       "      <td>0</td>\n",
       "      <td>0</td>\n",
       "      <td>17.784914</td>\n",
       "      <td>0.013899</td>\n",
       "    </tr>\n",
       "    <tr>\n",
       "      <th>5</th>\n",
       "      <td>0</td>\n",
       "      <td>0</td>\n",
       "      <td>5</td>\n",
       "      <td>0</td>\n",
       "      <td>5</td>\n",
       "      <td>17.493376</td>\n",
       "      <td>0.013677</td>\n",
       "    </tr>\n",
       "    <tr>\n",
       "      <th>6</th>\n",
       "      <td>0</td>\n",
       "      <td>0</td>\n",
       "      <td>5</td>\n",
       "      <td>5</td>\n",
       "      <td>0</td>\n",
       "      <td>17.572212</td>\n",
       "      <td>0.013501</td>\n",
       "    </tr>\n",
       "    <tr>\n",
       "      <th>7</th>\n",
       "      <td>0</td>\n",
       "      <td>0</td>\n",
       "      <td>5</td>\n",
       "      <td>5</td>\n",
       "      <td>5</td>\n",
       "      <td>17.855698</td>\n",
       "      <td>0.013964</td>\n",
       "    </tr>\n",
       "    <tr>\n",
       "      <th>8</th>\n",
       "      <td>0</td>\n",
       "      <td>5</td>\n",
       "      <td>0</td>\n",
       "      <td>0</td>\n",
       "      <td>0</td>\n",
       "      <td>18.070894</td>\n",
       "      <td>0.014289</td>\n",
       "    </tr>\n",
       "    <tr>\n",
       "      <th>9</th>\n",
       "      <td>0</td>\n",
       "      <td>5</td>\n",
       "      <td>0</td>\n",
       "      <td>0</td>\n",
       "      <td>5</td>\n",
       "      <td>18.397350</td>\n",
       "      <td>0.014393</td>\n",
       "    </tr>\n",
       "    <tr>\n",
       "      <th>10</th>\n",
       "      <td>0</td>\n",
       "      <td>5</td>\n",
       "      <td>0</td>\n",
       "      <td>5</td>\n",
       "      <td>0</td>\n",
       "      <td>17.824684</td>\n",
       "      <td>0.013753</td>\n",
       "    </tr>\n",
       "    <tr>\n",
       "      <th>11</th>\n",
       "      <td>0</td>\n",
       "      <td>5</td>\n",
       "      <td>0</td>\n",
       "      <td>5</td>\n",
       "      <td>5</td>\n",
       "      <td>18.110468</td>\n",
       "      <td>0.014086</td>\n",
       "    </tr>\n",
       "    <tr>\n",
       "      <th>12</th>\n",
       "      <td>0</td>\n",
       "      <td>5</td>\n",
       "      <td>5</td>\n",
       "      <td>0</td>\n",
       "      <td>0</td>\n",
       "      <td>17.558504</td>\n",
       "      <td>0.013526</td>\n",
       "    </tr>\n",
       "    <tr>\n",
       "      <th>13</th>\n",
       "      <td>0</td>\n",
       "      <td>5</td>\n",
       "      <td>5</td>\n",
       "      <td>0</td>\n",
       "      <td>5</td>\n",
       "      <td>18.062065</td>\n",
       "      <td>0.013891</td>\n",
       "    </tr>\n",
       "    <tr>\n",
       "      <th>14</th>\n",
       "      <td>0</td>\n",
       "      <td>5</td>\n",
       "      <td>5</td>\n",
       "      <td>5</td>\n",
       "      <td>0</td>\n",
       "      <td>18.580301</td>\n",
       "      <td>0.014377</td>\n",
       "    </tr>\n",
       "    <tr>\n",
       "      <th>15</th>\n",
       "      <td>0</td>\n",
       "      <td>5</td>\n",
       "      <td>5</td>\n",
       "      <td>5</td>\n",
       "      <td>5</td>\n",
       "      <td>17.931187</td>\n",
       "      <td>0.014168</td>\n",
       "    </tr>\n",
       "    <tr>\n",
       "      <th>16</th>\n",
       "      <td>5</td>\n",
       "      <td>0</td>\n",
       "      <td>0</td>\n",
       "      <td>0</td>\n",
       "      <td>0</td>\n",
       "      <td>17.973949</td>\n",
       "      <td>0.014302</td>\n",
       "    </tr>\n",
       "    <tr>\n",
       "      <th>17</th>\n",
       "      <td>5</td>\n",
       "      <td>0</td>\n",
       "      <td>0</td>\n",
       "      <td>0</td>\n",
       "      <td>5</td>\n",
       "      <td>18.163021</td>\n",
       "      <td>0.014445</td>\n",
       "    </tr>\n",
       "    <tr>\n",
       "      <th>18</th>\n",
       "      <td>5</td>\n",
       "      <td>0</td>\n",
       "      <td>0</td>\n",
       "      <td>5</td>\n",
       "      <td>0</td>\n",
       "      <td>18.358780</td>\n",
       "      <td>0.014560</td>\n",
       "    </tr>\n",
       "    <tr>\n",
       "      <th>19</th>\n",
       "      <td>5</td>\n",
       "      <td>0</td>\n",
       "      <td>0</td>\n",
       "      <td>5</td>\n",
       "      <td>5</td>\n",
       "      <td>19.370670</td>\n",
       "      <td>0.015551</td>\n",
       "    </tr>\n",
       "    <tr>\n",
       "      <th>20</th>\n",
       "      <td>5</td>\n",
       "      <td>0</td>\n",
       "      <td>5</td>\n",
       "      <td>0</td>\n",
       "      <td>0</td>\n",
       "      <td>18.244289</td>\n",
       "      <td>0.014147</td>\n",
       "    </tr>\n",
       "    <tr>\n",
       "      <th>21</th>\n",
       "      <td>5</td>\n",
       "      <td>0</td>\n",
       "      <td>5</td>\n",
       "      <td>0</td>\n",
       "      <td>5</td>\n",
       "      <td>19.435617</td>\n",
       "      <td>0.015259</td>\n",
       "    </tr>\n",
       "    <tr>\n",
       "      <th>22</th>\n",
       "      <td>5</td>\n",
       "      <td>0</td>\n",
       "      <td>5</td>\n",
       "      <td>5</td>\n",
       "      <td>0</td>\n",
       "      <td>19.090454</td>\n",
       "      <td>0.014938</td>\n",
       "    </tr>\n",
       "    <tr>\n",
       "      <th>23</th>\n",
       "      <td>5</td>\n",
       "      <td>0</td>\n",
       "      <td>5</td>\n",
       "      <td>5</td>\n",
       "      <td>5</td>\n",
       "      <td>19.168083</td>\n",
       "      <td>0.015263</td>\n",
       "    </tr>\n",
       "    <tr>\n",
       "      <th>24</th>\n",
       "      <td>5</td>\n",
       "      <td>5</td>\n",
       "      <td>0</td>\n",
       "      <td>0</td>\n",
       "      <td>0</td>\n",
       "      <td>18.128235</td>\n",
       "      <td>0.014038</td>\n",
       "    </tr>\n",
       "    <tr>\n",
       "      <th>25</th>\n",
       "      <td>5</td>\n",
       "      <td>5</td>\n",
       "      <td>0</td>\n",
       "      <td>0</td>\n",
       "      <td>5</td>\n",
       "      <td>19.345959</td>\n",
       "      <td>0.015552</td>\n",
       "    </tr>\n",
       "    <tr>\n",
       "      <th>26</th>\n",
       "      <td>5</td>\n",
       "      <td>5</td>\n",
       "      <td>0</td>\n",
       "      <td>5</td>\n",
       "      <td>0</td>\n",
       "      <td>18.477449</td>\n",
       "      <td>0.014758</td>\n",
       "    </tr>\n",
       "    <tr>\n",
       "      <th>27</th>\n",
       "      <td>5</td>\n",
       "      <td>5</td>\n",
       "      <td>0</td>\n",
       "      <td>5</td>\n",
       "      <td>5</td>\n",
       "      <td>20.469135</td>\n",
       "      <td>0.016368</td>\n",
       "    </tr>\n",
       "    <tr>\n",
       "      <th>28</th>\n",
       "      <td>5</td>\n",
       "      <td>5</td>\n",
       "      <td>5</td>\n",
       "      <td>0</td>\n",
       "      <td>0</td>\n",
       "      <td>18.272209</td>\n",
       "      <td>0.014433</td>\n",
       "    </tr>\n",
       "    <tr>\n",
       "      <th>29</th>\n",
       "      <td>5</td>\n",
       "      <td>5</td>\n",
       "      <td>5</td>\n",
       "      <td>0</td>\n",
       "      <td>5</td>\n",
       "      <td>21.334124</td>\n",
       "      <td>0.016509</td>\n",
       "    </tr>\n",
       "    <tr>\n",
       "      <th>30</th>\n",
       "      <td>5</td>\n",
       "      <td>5</td>\n",
       "      <td>5</td>\n",
       "      <td>5</td>\n",
       "      <td>0</td>\n",
       "      <td>20.471972</td>\n",
       "      <td>0.015674</td>\n",
       "    </tr>\n",
       "    <tr>\n",
       "      <th>31</th>\n",
       "      <td>5</td>\n",
       "      <td>5</td>\n",
       "      <td>5</td>\n",
       "      <td>5</td>\n",
       "      <td>5</td>\n",
       "      <td>20.673866</td>\n",
       "      <td>0.015956</td>\n",
       "    </tr>\n",
       "  </tbody>\n",
       "</table>\n",
       "</div>"
      ],
      "text/plain": [
       "    ratio_over_1000_shares  ratio_over_400_shares  shareholders_400_to_600  \\\n",
       "0                        0                      0                        0   \n",
       "1                        0                      0                        0   \n",
       "2                        0                      0                        0   \n",
       "3                        0                      0                        0   \n",
       "4                        0                      0                        5   \n",
       "5                        0                      0                        5   \n",
       "6                        0                      0                        5   \n",
       "7                        0                      0                        5   \n",
       "8                        0                      5                        0   \n",
       "9                        0                      5                        0   \n",
       "10                       0                      5                        0   \n",
       "11                       0                      5                        0   \n",
       "12                       0                      5                        5   \n",
       "13                       0                      5                        5   \n",
       "14                       0                      5                        5   \n",
       "15                       0                      5                        5   \n",
       "16                       5                      0                        0   \n",
       "17                       5                      0                        0   \n",
       "18                       5                      0                        0   \n",
       "19                       5                      0                        0   \n",
       "20                       5                      0                        5   \n",
       "21                       5                      0                        5   \n",
       "22                       5                      0                        5   \n",
       "23                       5                      0                        5   \n",
       "24                       5                      5                        0   \n",
       "25                       5                      5                        0   \n",
       "26                       5                      5                        0   \n",
       "27                       5                      5                        0   \n",
       "28                       5                      5                        5   \n",
       "29                       5                      5                        5   \n",
       "30                       5                      5                        5   \n",
       "31                       5                      5                        5   \n",
       "\n",
       "    shareholders_600_to_800  shareholders_800_to_1000       RMSE      MAPE  \n",
       "0                         0                         0  18.057192  0.013987  \n",
       "1                         0                         5  18.149027  0.014366  \n",
       "2                         5                         0  18.789856  0.015052  \n",
       "3                         5                         5  17.737442  0.014084  \n",
       "4                         0                         0  17.784914  0.013899  \n",
       "5                         0                         5  17.493376  0.013677  \n",
       "6                         5                         0  17.572212  0.013501  \n",
       "7                         5                         5  17.855698  0.013964  \n",
       "8                         0                         0  18.070894  0.014289  \n",
       "9                         0                         5  18.397350  0.014393  \n",
       "10                        5                         0  17.824684  0.013753  \n",
       "11                        5                         5  18.110468  0.014086  \n",
       "12                        0                         0  17.558504  0.013526  \n",
       "13                        0                         5  18.062065  0.013891  \n",
       "14                        5                         0  18.580301  0.014377  \n",
       "15                        5                         5  17.931187  0.014168  \n",
       "16                        0                         0  17.973949  0.014302  \n",
       "17                        0                         5  18.163021  0.014445  \n",
       "18                        5                         0  18.358780  0.014560  \n",
       "19                        5                         5  19.370670  0.015551  \n",
       "20                        0                         0  18.244289  0.014147  \n",
       "21                        0                         5  19.435617  0.015259  \n",
       "22                        5                         0  19.090454  0.014938  \n",
       "23                        5                         5  19.168083  0.015263  \n",
       "24                        0                         0  18.128235  0.014038  \n",
       "25                        0                         5  19.345959  0.015552  \n",
       "26                        5                         0  18.477449  0.014758  \n",
       "27                        5                         5  20.469135  0.016368  \n",
       "28                        0                         0  18.272209  0.014433  \n",
       "29                        0                         5  21.334124  0.016509  \n",
       "30                        5                         0  20.471972  0.015674  \n",
       "31                        5                         5  20.673866  0.015956  "
      ]
     },
     "execution_count": 3,
     "metadata": {},
     "output_type": "execute_result"
    }
   ],
   "source": [
    "results_df = pd.DataFrame(results)\n",
    "results_df.to_csv('params.csv')\n",
    "results_df"
   ]
  },
  {
   "cell_type": "code",
   "execution_count": null,
   "metadata": {},
   "outputs": [],
   "source": []
  },
  {
   "cell_type": "code",
   "execution_count": 4,
   "metadata": {},
   "outputs": [
    {
     "data": {
      "text/html": [
       "<div>\n",
       "<style scoped>\n",
       "    .dataframe tbody tr th:only-of-type {\n",
       "        vertical-align: middle;\n",
       "    }\n",
       "\n",
       "    .dataframe tbody tr th {\n",
       "        vertical-align: top;\n",
       "    }\n",
       "\n",
       "    .dataframe thead th {\n",
       "        text-align: right;\n",
       "    }\n",
       "</style>\n",
       "<table border=\"1\" class=\"dataframe\">\n",
       "  <thead>\n",
       "    <tr style=\"text-align: right;\">\n",
       "      <th></th>\n",
       "      <th>ratio_over_1000_shares</th>\n",
       "      <th>ratio_over_400_shares</th>\n",
       "      <th>shareholders_400_to_600</th>\n",
       "      <th>shareholders_600_to_800</th>\n",
       "      <th>shareholders_800_to_1000</th>\n",
       "      <th>RMSE</th>\n",
       "      <th>MAPE</th>\n",
       "    </tr>\n",
       "  </thead>\n",
       "  <tbody>\n",
       "    <tr>\n",
       "      <th>5</th>\n",
       "      <td>0</td>\n",
       "      <td>0</td>\n",
       "      <td>5</td>\n",
       "      <td>0</td>\n",
       "      <td>5</td>\n",
       "      <td>17.493376</td>\n",
       "      <td>0.013677</td>\n",
       "    </tr>\n",
       "    <tr>\n",
       "      <th>12</th>\n",
       "      <td>0</td>\n",
       "      <td>5</td>\n",
       "      <td>5</td>\n",
       "      <td>0</td>\n",
       "      <td>0</td>\n",
       "      <td>17.558504</td>\n",
       "      <td>0.013526</td>\n",
       "    </tr>\n",
       "    <tr>\n",
       "      <th>6</th>\n",
       "      <td>0</td>\n",
       "      <td>0</td>\n",
       "      <td>5</td>\n",
       "      <td>5</td>\n",
       "      <td>0</td>\n",
       "      <td>17.572212</td>\n",
       "      <td>0.013501</td>\n",
       "    </tr>\n",
       "    <tr>\n",
       "      <th>3</th>\n",
       "      <td>0</td>\n",
       "      <td>0</td>\n",
       "      <td>0</td>\n",
       "      <td>5</td>\n",
       "      <td>5</td>\n",
       "      <td>17.737442</td>\n",
       "      <td>0.014084</td>\n",
       "    </tr>\n",
       "    <tr>\n",
       "      <th>4</th>\n",
       "      <td>0</td>\n",
       "      <td>0</td>\n",
       "      <td>5</td>\n",
       "      <td>0</td>\n",
       "      <td>0</td>\n",
       "      <td>17.784914</td>\n",
       "      <td>0.013899</td>\n",
       "    </tr>\n",
       "    <tr>\n",
       "      <th>10</th>\n",
       "      <td>0</td>\n",
       "      <td>5</td>\n",
       "      <td>0</td>\n",
       "      <td>5</td>\n",
       "      <td>0</td>\n",
       "      <td>17.824684</td>\n",
       "      <td>0.013753</td>\n",
       "    </tr>\n",
       "    <tr>\n",
       "      <th>7</th>\n",
       "      <td>0</td>\n",
       "      <td>0</td>\n",
       "      <td>5</td>\n",
       "      <td>5</td>\n",
       "      <td>5</td>\n",
       "      <td>17.855698</td>\n",
       "      <td>0.013964</td>\n",
       "    </tr>\n",
       "    <tr>\n",
       "      <th>15</th>\n",
       "      <td>0</td>\n",
       "      <td>5</td>\n",
       "      <td>5</td>\n",
       "      <td>5</td>\n",
       "      <td>5</td>\n",
       "      <td>17.931187</td>\n",
       "      <td>0.014168</td>\n",
       "    </tr>\n",
       "    <tr>\n",
       "      <th>16</th>\n",
       "      <td>5</td>\n",
       "      <td>0</td>\n",
       "      <td>0</td>\n",
       "      <td>0</td>\n",
       "      <td>0</td>\n",
       "      <td>17.973949</td>\n",
       "      <td>0.014302</td>\n",
       "    </tr>\n",
       "    <tr>\n",
       "      <th>0</th>\n",
       "      <td>0</td>\n",
       "      <td>0</td>\n",
       "      <td>0</td>\n",
       "      <td>0</td>\n",
       "      <td>0</td>\n",
       "      <td>18.057192</td>\n",
       "      <td>0.013987</td>\n",
       "    </tr>\n",
       "  </tbody>\n",
       "</table>\n",
       "</div>"
      ],
      "text/plain": [
       "    ratio_over_1000_shares  ratio_over_400_shares  shareholders_400_to_600  \\\n",
       "5                        0                      0                        5   \n",
       "12                       0                      5                        5   \n",
       "6                        0                      0                        5   \n",
       "3                        0                      0                        0   \n",
       "4                        0                      0                        5   \n",
       "10                       0                      5                        0   \n",
       "7                        0                      0                        5   \n",
       "15                       0                      5                        5   \n",
       "16                       5                      0                        0   \n",
       "0                        0                      0                        0   \n",
       "\n",
       "    shareholders_600_to_800  shareholders_800_to_1000       RMSE      MAPE  \n",
       "5                         0                         5  17.493376  0.013677  \n",
       "12                        0                         0  17.558504  0.013526  \n",
       "6                         5                         0  17.572212  0.013501  \n",
       "3                         5                         5  17.737442  0.014084  \n",
       "4                         0                         0  17.784914  0.013899  \n",
       "10                        5                         0  17.824684  0.013753  \n",
       "7                         5                         5  17.855698  0.013964  \n",
       "15                        5                         5  17.931187  0.014168  \n",
       "16                        0                         0  17.973949  0.014302  \n",
       "0                         0                         0  18.057192  0.013987  "
      ]
     },
     "execution_count": 4,
     "metadata": {},
     "output_type": "execute_result"
    }
   ],
   "source": [
    "results_df.sort_values(by=\"RMSE\").head(10)"
   ]
  },
  {
   "cell_type": "code",
   "execution_count": 5,
   "metadata": {},
   "outputs": [
    {
     "data": {
      "text/html": [
       "<div>\n",
       "<style scoped>\n",
       "    .dataframe tbody tr th:only-of-type {\n",
       "        vertical-align: middle;\n",
       "    }\n",
       "\n",
       "    .dataframe tbody tr th {\n",
       "        vertical-align: top;\n",
       "    }\n",
       "\n",
       "    .dataframe thead th {\n",
       "        text-align: right;\n",
       "    }\n",
       "</style>\n",
       "<table border=\"1\" class=\"dataframe\">\n",
       "  <thead>\n",
       "    <tr style=\"text-align: right;\">\n",
       "      <th></th>\n",
       "      <th>ratio_over_1000_shares</th>\n",
       "      <th>ratio_over_400_shares</th>\n",
       "      <th>shareholders_400_to_600</th>\n",
       "      <th>shareholders_600_to_800</th>\n",
       "      <th>shareholders_800_to_1000</th>\n",
       "      <th>RMSE</th>\n",
       "      <th>MAPE</th>\n",
       "    </tr>\n",
       "  </thead>\n",
       "  <tbody>\n",
       "    <tr>\n",
       "      <th>6</th>\n",
       "      <td>0</td>\n",
       "      <td>0</td>\n",
       "      <td>5</td>\n",
       "      <td>5</td>\n",
       "      <td>0</td>\n",
       "      <td>17.572212</td>\n",
       "      <td>0.013501</td>\n",
       "    </tr>\n",
       "    <tr>\n",
       "      <th>12</th>\n",
       "      <td>0</td>\n",
       "      <td>5</td>\n",
       "      <td>5</td>\n",
       "      <td>0</td>\n",
       "      <td>0</td>\n",
       "      <td>17.558504</td>\n",
       "      <td>0.013526</td>\n",
       "    </tr>\n",
       "    <tr>\n",
       "      <th>5</th>\n",
       "      <td>0</td>\n",
       "      <td>0</td>\n",
       "      <td>5</td>\n",
       "      <td>0</td>\n",
       "      <td>5</td>\n",
       "      <td>17.493376</td>\n",
       "      <td>0.013677</td>\n",
       "    </tr>\n",
       "    <tr>\n",
       "      <th>10</th>\n",
       "      <td>0</td>\n",
       "      <td>5</td>\n",
       "      <td>0</td>\n",
       "      <td>5</td>\n",
       "      <td>0</td>\n",
       "      <td>17.824684</td>\n",
       "      <td>0.013753</td>\n",
       "    </tr>\n",
       "    <tr>\n",
       "      <th>13</th>\n",
       "      <td>0</td>\n",
       "      <td>5</td>\n",
       "      <td>5</td>\n",
       "      <td>0</td>\n",
       "      <td>5</td>\n",
       "      <td>18.062065</td>\n",
       "      <td>0.013891</td>\n",
       "    </tr>\n",
       "    <tr>\n",
       "      <th>4</th>\n",
       "      <td>0</td>\n",
       "      <td>0</td>\n",
       "      <td>5</td>\n",
       "      <td>0</td>\n",
       "      <td>0</td>\n",
       "      <td>17.784914</td>\n",
       "      <td>0.013899</td>\n",
       "    </tr>\n",
       "    <tr>\n",
       "      <th>7</th>\n",
       "      <td>0</td>\n",
       "      <td>0</td>\n",
       "      <td>5</td>\n",
       "      <td>5</td>\n",
       "      <td>5</td>\n",
       "      <td>17.855698</td>\n",
       "      <td>0.013964</td>\n",
       "    </tr>\n",
       "    <tr>\n",
       "      <th>0</th>\n",
       "      <td>0</td>\n",
       "      <td>0</td>\n",
       "      <td>0</td>\n",
       "      <td>0</td>\n",
       "      <td>0</td>\n",
       "      <td>18.057192</td>\n",
       "      <td>0.013987</td>\n",
       "    </tr>\n",
       "    <tr>\n",
       "      <th>24</th>\n",
       "      <td>5</td>\n",
       "      <td>5</td>\n",
       "      <td>0</td>\n",
       "      <td>0</td>\n",
       "      <td>0</td>\n",
       "      <td>18.128235</td>\n",
       "      <td>0.014038</td>\n",
       "    </tr>\n",
       "    <tr>\n",
       "      <th>3</th>\n",
       "      <td>0</td>\n",
       "      <td>0</td>\n",
       "      <td>0</td>\n",
       "      <td>5</td>\n",
       "      <td>5</td>\n",
       "      <td>17.737442</td>\n",
       "      <td>0.014084</td>\n",
       "    </tr>\n",
       "  </tbody>\n",
       "</table>\n",
       "</div>"
      ],
      "text/plain": [
       "    ratio_over_1000_shares  ratio_over_400_shares  shareholders_400_to_600  \\\n",
       "6                        0                      0                        5   \n",
       "12                       0                      5                        5   \n",
       "5                        0                      0                        5   \n",
       "10                       0                      5                        0   \n",
       "13                       0                      5                        5   \n",
       "4                        0                      0                        5   \n",
       "7                        0                      0                        5   \n",
       "0                        0                      0                        0   \n",
       "24                       5                      5                        0   \n",
       "3                        0                      0                        0   \n",
       "\n",
       "    shareholders_600_to_800  shareholders_800_to_1000       RMSE      MAPE  \n",
       "6                         5                         0  17.572212  0.013501  \n",
       "12                        0                         0  17.558504  0.013526  \n",
       "5                         0                         5  17.493376  0.013677  \n",
       "10                        5                         0  17.824684  0.013753  \n",
       "13                        0                         5  18.062065  0.013891  \n",
       "4                         0                         0  17.784914  0.013899  \n",
       "7                         5                         5  17.855698  0.013964  \n",
       "0                         0                         0  18.057192  0.013987  \n",
       "24                        0                         0  18.128235  0.014038  \n",
       "3                         5                         5  17.737442  0.014084  "
      ]
     },
     "execution_count": 5,
     "metadata": {},
     "output_type": "execute_result"
    }
   ],
   "source": [
    "results_df.sort_values(by=\"MAPE\").head(10)"
   ]
  }
 ],
 "metadata": {
  "kernelspec": {
   "display_name": "Python 3",
   "language": "python",
   "name": "python3"
  },
  "language_info": {
   "codemirror_mode": {
    "name": "ipython",
    "version": 3
   },
   "file_extension": ".py",
   "mimetype": "text/x-python",
   "name": "python",
   "nbconvert_exporter": "python",
   "pygments_lexer": "ipython3",
   "version": "3.11.9"
  }
 },
 "nbformat": 4,
 "nbformat_minor": 2
}
