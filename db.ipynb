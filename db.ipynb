{
 "cells": [
  {
   "cell_type": "code",
   "execution_count": 1,
   "metadata": {},
   "outputs": [],
   "source": [
    "from langchain_chroma import Chroma\n",
    "\n",
    "from src.embedding import get_embedding_function\n",
    "\n",
    "\n",
    "CHROMA_PATH = \"chroma\"\n",
    "DATA_PATH = \"data\"\n",
    "# Load the existing database.\n",
    "db = Chroma(\n",
    "    persist_directory=CHROMA_PATH, embedding_function=get_embedding_function()\n",
    ")"
   ]
  },
  {
   "cell_type": "code",
   "execution_count": null,
   "metadata": {},
   "outputs": [
    {
     "name": "stdout",
     "output_type": "stream",
     "text": [
      "6b269a5c-4993-4743-accf-af9b37b171fb {'publish_at': '2025-03-17'}\n",
      "7c13e413-965d-4ddf-bca1-70562187a49d {'publish_at': '2025-03-17'}\n",
      "c1aabe50-58ea-4f67-b95d-88788d0496ec {'publish_at': '2025-03-17'}\n"
     ]
    }
   ],
   "source": [
    "# Define the metadata filter\n",
    "metadata_filter = {\"publish_at\": \"2025-03-17\"}\n",
    "\n",
    "# Perform the query\n",
    "query = 'abcd'\n",
    "results = db.similarity_search(query, k=3,\n",
    "                               filter=metadata_filter)\n",
    "\n",
    "# Output the results\n",
    "for i in results:\n",
    "    print(i.id, i.metadata)"
   ]
  }
 ],
 "metadata": {
  "kernelspec": {
   "display_name": "Python 3",
   "language": "python",
   "name": "python3"
  },
  "language_info": {
   "codemirror_mode": {
    "name": "ipython",
    "version": 3
   },
   "file_extension": ".py",
   "mimetype": "text/x-python",
   "name": "python",
   "nbconvert_exporter": "python",
   "pygments_lexer": "ipython3",
   "version": "3.11.0"
  }
 },
 "nbformat": 4,
 "nbformat_minor": 2
}
