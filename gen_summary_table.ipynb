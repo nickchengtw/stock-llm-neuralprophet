{
 "cells": [
  {
   "cell_type": "code",
   "execution_count": null,
   "id": "ef7a7803",
   "metadata": {},
   "outputs": [
    {
     "ename": "",
     "evalue": "",
     "output_type": "error",
     "traceback": [
      "\u001b[1;31mRunning cells with 'base (Python 3.12.9)' requires the ipykernel package.\n",
      "\u001b[1;31m<a href='command:jupyter.createPythonEnvAndSelectController'>Create a Python Environment</a> with the required packages."
     ]
    }
   ],
   "source": [
    "import os\n",
    "import pandas as pd\n",
    "\n",
    "def read_csvs_with_name(root_dir, target_filename):\n",
    "    dataframes = []\n",
    "\n",
    "    for dirpath, dirnames, filenames in os.walk(root_dir):\n",
    "        if target_filename in filenames:\n",
    "            file_path = os.path.join(dirpath, target_filename)\n",
    "            try:\n",
    "                df = pd.read_csv(file_path)\n",
    "                print(f\"Loaded: {file_path}\")\n",
    "                dataframes.append(df)\n",
    "            except Exception as e:\n",
    "                print(f\"Error reading {file_path}: {e}\")\n",
    "    \n",
    "    return dataframes\n",
    "\n",
    "# Usage\n",
    "dfs = read_csvs_with_name(\"reports/\", \"default.csv\")\n",
    "\n",
    "for df in dfs:\n",
    "    print(dfs)\n",
    "\n",
    "# Example: concatenate all DataFrames into one\n",
    "# if dfs:\n",
    "#     combined_df = pd.concat(dfs, ignore_index=True)\n",
    "#     print(combined_df.head())\n",
    "# else:\n",
    "#     print(\"No matching files found.\")\n"
   ]
  }
 ],
 "metadata": {
  "kernelspec": {
   "display_name": "base",
   "language": "python",
   "name": "python3"
  },
  "language_info": {
   "name": "python",
   "version": "3.12.9"
  }
 },
 "nbformat": 4,
 "nbformat_minor": 5
}
